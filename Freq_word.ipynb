{
 "cells": [
  {
   "cell_type": "code",
   "execution_count": 1,
   "metadata": {},
   "outputs": [],
   "source": [
    "import numpy as np\n",
    "import pandas as pd\n",
    "import pickle\n",
    "import warnings\n",
    "warnings.filterwarnings(\"ignore\")"
   ]
  },
  {
   "cell_type": "code",
   "execution_count": 2,
   "metadata": {},
   "outputs": [],
   "source": [
    "import nltk\n",
    "from nltk.tokenize import RegexpTokenizer\n",
    "from nltk.tokenize import word_tokenize\n",
    "from nltk.corpus import stopwords\n",
    "# stopwords\n",
    "stop_words_EN = stopwords.words('english')\n",
    "stop_words_SP = stopwords.words('spanish')\n",
    "stop_words = stop_words_EN + stop_words_SP"
   ]
  },
  {
   "cell_type": "markdown",
   "metadata": {},
   "source": [
    "## Data"
   ]
  },
  {
   "cell_type": "code",
   "execution_count": 3,
   "metadata": {},
   "outputs": [],
   "source": [
    "path = '/Users/jiangruiyin/Desktop/proj/data_lyrics.txt'"
   ]
  },
  {
   "cell_type": "code",
   "execution_count": 4,
   "metadata": {},
   "outputs": [],
   "source": [
    "def load_lyrics(path):\n",
    "    f = open(path,\"r\")\n",
    "    lines = f.readlines()\n",
    "    new = []\n",
    "    for line in lines:\n",
    "        line = line.split(\";\")\n",
    "        line[1] = line[1].replace('\\n','')\n",
    "        new.append(line)\n",
    "    data = np.array(new)\n",
    "    return data"
   ]
  },
  {
   "cell_type": "code",
   "execution_count": 5,
   "metadata": {},
   "outputs": [],
   "source": [
    "data = load_lyrics(path)"
   ]
  },
  {
   "cell_type": "code",
   "execution_count": 6,
   "metadata": {},
   "outputs": [
    {
     "data": {
      "text/plain": [
       "[\"touch me, turn me on and burn me down ..your lips hold a wild desire.and give a kiss like the devil's fire.your kind of love could burn a town.oh, touch me, turn me on and burn me down..your touch brings me to my knees.you've got me begging please, please, please.take my heart and melt it down.touch me, turn me on and burn me down..you're a wild love i can't tame.your kisses burn like flames.i go crazy when you're around.so touch me, turn me on and burn me down..i'm devoured by your fiery flame.my lips can only speak your name.just spread my ashes all around.oh, touch me, turn me on and burn me down..you're a wild love i can't tame.your kisses burn like flames.i go crazy when you're around.so touch me, turn me on and burn me down.touch me, turn me on and burn me down\",\n",
       " '0']"
      ]
     },
     "execution_count": 6,
     "metadata": {},
     "output_type": "execute_result"
    }
   ],
   "source": [
    "data[0]"
   ]
  },
  {
   "cell_type": "code",
   "execution_count": 7,
   "metadata": {},
   "outputs": [],
   "source": [
    "lyrics =  [lyric[0].replace(\"\\'\", \"\") for lyric in data]"
   ]
  },
  {
   "cell_type": "code",
   "execution_count": 8,
   "metadata": {},
   "outputs": [],
   "source": [
    "labels =  [lyric[1] for lyric in data]"
   ]
  },
  {
   "cell_type": "code",
   "execution_count": 9,
   "metadata": {},
   "outputs": [
    {
     "data": {
      "text/plain": [
       "2464"
      ]
     },
     "execution_count": 9,
     "metadata": {},
     "output_type": "execute_result"
    }
   ],
   "source": [
    "len(lyrics)"
   ]
  },
  {
   "cell_type": "code",
   "execution_count": 10,
   "metadata": {},
   "outputs": [
    {
     "data": {
      "text/plain": [
       "'touch me, turn me on and burn me down ..your lips hold a wild desire.and give a kiss like the devils fire.your kind of love could burn a town.oh, touch me, turn me on and burn me down..your touch brings me to my knees.youve got me begging please, please, please.take my heart and melt it down.touch me, turn me on and burn me down..youre a wild love i cant tame.your kisses burn like flames.i go crazy when youre around.so touch me, turn me on and burn me down..im devoured by your fiery flame.my lips can only speak your name.just spread my ashes all around.oh, touch me, turn me on and burn me down..youre a wild love i cant tame.your kisses burn like flames.i go crazy when youre around.so touch me, turn me on and burn me down.touch me, turn me on and burn me down'"
      ]
     },
     "execution_count": 10,
     "metadata": {},
     "output_type": "execute_result"
    }
   ],
   "source": [
    "lyrics[0]"
   ]
  },
  {
   "cell_type": "markdown",
   "metadata": {},
   "source": [
    "## Separate lyrics into sentences"
   ]
  },
  {
   "cell_type": "code",
   "execution_count": 11,
   "metadata": {},
   "outputs": [],
   "source": [
    "tokenizer = RegexpTokenizer(r'[^.]+')"
   ]
  },
  {
   "cell_type": "code",
   "execution_count": 12,
   "metadata": {},
   "outputs": [],
   "source": [
    "#from nltk.tokenize import sent_tokenize\n",
    "#sent_tokenize(lyrics[0])"
   ]
  },
  {
   "cell_type": "code",
   "execution_count": 13,
   "metadata": {},
   "outputs": [],
   "source": [
    "import re\n",
    "p=re.compile(\"^\\s+|\\s+$\")\n",
    "#str=\"   That made good janttt    \"\n",
    " \n",
    "#ss=re.sub(p,\"\",str)\n",
    "#ss"
   ]
  },
  {
   "cell_type": "code",
   "execution_count": 14,
   "metadata": {},
   "outputs": [],
   "source": [
    "lyricSens = []\n",
    "lyricSens =  [tokenizer.tokenize(lyric) for lyric in lyrics]"
   ]
  },
  {
   "cell_type": "code",
   "execution_count": 15,
   "metadata": {
    "scrolled": true
   },
   "outputs": [
    {
     "data": {
      "text/plain": [
       "['touch me, turn me on and burn me down ',\n",
       " 'your lips hold a wild desire',\n",
       " 'and give a kiss like the devils fire',\n",
       " 'your kind of love could burn a town',\n",
       " 'oh, touch me, turn me on and burn me down',\n",
       " 'your touch brings me to my knees',\n",
       " 'youve got me begging please, please, please',\n",
       " 'take my heart and melt it down',\n",
       " 'touch me, turn me on and burn me down',\n",
       " 'youre a wild love i cant tame',\n",
       " 'your kisses burn like flames',\n",
       " 'i go crazy when youre around',\n",
       " 'so touch me, turn me on and burn me down',\n",
       " 'im devoured by your fiery flame',\n",
       " 'my lips can only speak your name',\n",
       " 'just spread my ashes all around',\n",
       " 'oh, touch me, turn me on and burn me down',\n",
       " 'youre a wild love i cant tame',\n",
       " 'your kisses burn like flames',\n",
       " 'i go crazy when youre around',\n",
       " 'so touch me, turn me on and burn me down',\n",
       " 'touch me, turn me on and burn me down']"
      ]
     },
     "execution_count": 15,
     "metadata": {},
     "output_type": "execute_result"
    }
   ],
   "source": [
    "lyricSens[0]"
   ]
  },
  {
   "cell_type": "code",
   "execution_count": 16,
   "metadata": {},
   "outputs": [],
   "source": [
    "for ls in range(len(lyricSens)):\n",
    "    for i in range(len(lyricSens[ls])): \n",
    "        lyricSens[ls][i] = lyricSens[ls][i].replace(\",\", \"\")\n",
    "        lyricSens[ls][i]=re.sub(p,\"\",lyricSens[ls][i])"
   ]
  },
  {
   "cell_type": "code",
   "execution_count": 18,
   "metadata": {},
   "outputs": [
    {
     "data": {
      "text/plain": [
       "['touch me turn me on and burn me down',\n",
       " 'your lips hold a wild desire',\n",
       " 'and give a kiss like the devils fire',\n",
       " 'your kind of love could burn a town',\n",
       " 'oh touch me turn me on and burn me down',\n",
       " 'your touch brings me to my knees',\n",
       " 'youve got me begging please please please',\n",
       " 'take my heart and melt it down',\n",
       " 'touch me turn me on and burn me down',\n",
       " 'youre a wild love i cant tame',\n",
       " 'your kisses burn like flames',\n",
       " 'i go crazy when youre around',\n",
       " 'so touch me turn me on and burn me down',\n",
       " 'im devoured by your fiery flame',\n",
       " 'my lips can only speak your name',\n",
       " 'just spread my ashes all around',\n",
       " 'oh touch me turn me on and burn me down',\n",
       " 'youre a wild love i cant tame',\n",
       " 'your kisses burn like flames',\n",
       " 'i go crazy when youre around',\n",
       " 'so touch me turn me on and burn me down',\n",
       " 'touch me turn me on and burn me down']"
      ]
     },
     "execution_count": 18,
     "metadata": {},
     "output_type": "execute_result"
    }
   ],
   "source": [
    "lyricSens[0]"
   ]
  },
  {
   "cell_type": "markdown",
   "metadata": {},
   "source": [
    "## Separate lyrics into words"
   ]
  },
  {
   "cell_type": "code",
   "execution_count": 443,
   "metadata": {},
   "outputs": [
    {
     "data": {
      "text/plain": [
       "'touch me, turn me on and burn me down ..your lips hold a wild desire.and give a kiss like the devils fire.your kind of love could burn a town.oh, touch me, turn me on and burn me down..your touch brings me to my knees.youve got me begging please, please, please.take my heart and melt it down.touch me, turn me on and burn me down..youre a wild love i cant tame.your kisses burn like flames.i go crazy when youre around.so touch me, turn me on and burn me down..im devoured by your fiery flame.my lips can only speak your name.just spread my ashes all around.oh, touch me, turn me on and burn me down..youre a wild love i cant tame.your kisses burn like flames.i go crazy when youre around.so touch me, turn me on and burn me down.touch me, turn me on and burn me down'"
      ]
     },
     "execution_count": 443,
     "metadata": {},
     "output_type": "execute_result"
    }
   ],
   "source": [
    "lyrics[0]"
   ]
  },
  {
   "cell_type": "code",
   "execution_count": 402,
   "metadata": {},
   "outputs": [
    {
     "name": "stdout",
     "output_type": "stream",
     "text": [
      "True\n"
     ]
    }
   ],
   "source": [
    "w = 'estás'\n",
    "print(w.isalpha())"
   ]
  },
  {
   "cell_type": "code",
   "execution_count": 19,
   "metadata": {},
   "outputs": [],
   "source": [
    "token = RegexpTokenizer(r'\\w+')"
   ]
  },
  {
   "cell_type": "code",
   "execution_count": 20,
   "metadata": {},
   "outputs": [],
   "source": [
    "lyricWords = [token.tokenize(lyric) for lyric in lyrics]"
   ]
  },
  {
   "cell_type": "code",
   "execution_count": 21,
   "metadata": {},
   "outputs": [
    {
     "data": {
      "text/plain": [
       "['touch',\n",
       " 'me',\n",
       " 'turn',\n",
       " 'me',\n",
       " 'on',\n",
       " 'and',\n",
       " 'burn',\n",
       " 'me',\n",
       " 'down',\n",
       " 'your',\n",
       " 'lips',\n",
       " 'hold',\n",
       " 'a',\n",
       " 'wild',\n",
       " 'desire',\n",
       " 'and',\n",
       " 'give',\n",
       " 'a',\n",
       " 'kiss',\n",
       " 'like',\n",
       " 'the',\n",
       " 'devils',\n",
       " 'fire',\n",
       " 'your',\n",
       " 'kind',\n",
       " 'of',\n",
       " 'love',\n",
       " 'could',\n",
       " 'burn',\n",
       " 'a',\n",
       " 'town',\n",
       " 'oh',\n",
       " 'touch',\n",
       " 'me',\n",
       " 'turn',\n",
       " 'me',\n",
       " 'on',\n",
       " 'and',\n",
       " 'burn',\n",
       " 'me',\n",
       " 'down',\n",
       " 'your',\n",
       " 'touch',\n",
       " 'brings',\n",
       " 'me',\n",
       " 'to',\n",
       " 'my',\n",
       " 'knees',\n",
       " 'youve',\n",
       " 'got',\n",
       " 'me',\n",
       " 'begging',\n",
       " 'please',\n",
       " 'please',\n",
       " 'please',\n",
       " 'take',\n",
       " 'my',\n",
       " 'heart',\n",
       " 'and',\n",
       " 'melt',\n",
       " 'it',\n",
       " 'down',\n",
       " 'touch',\n",
       " 'me',\n",
       " 'turn',\n",
       " 'me',\n",
       " 'on',\n",
       " 'and',\n",
       " 'burn',\n",
       " 'me',\n",
       " 'down',\n",
       " 'youre',\n",
       " 'a',\n",
       " 'wild',\n",
       " 'love',\n",
       " 'i',\n",
       " 'cant',\n",
       " 'tame',\n",
       " 'your',\n",
       " 'kisses',\n",
       " 'burn',\n",
       " 'like',\n",
       " 'flames',\n",
       " 'i',\n",
       " 'go',\n",
       " 'crazy',\n",
       " 'when',\n",
       " 'youre',\n",
       " 'around',\n",
       " 'so',\n",
       " 'touch',\n",
       " 'me',\n",
       " 'turn',\n",
       " 'me',\n",
       " 'on',\n",
       " 'and',\n",
       " 'burn',\n",
       " 'me',\n",
       " 'down',\n",
       " 'im',\n",
       " 'devoured',\n",
       " 'by',\n",
       " 'your',\n",
       " 'fiery',\n",
       " 'flame',\n",
       " 'my',\n",
       " 'lips',\n",
       " 'can',\n",
       " 'only',\n",
       " 'speak',\n",
       " 'your',\n",
       " 'name',\n",
       " 'just',\n",
       " 'spread',\n",
       " 'my',\n",
       " 'ashes',\n",
       " 'all',\n",
       " 'around',\n",
       " 'oh',\n",
       " 'touch',\n",
       " 'me',\n",
       " 'turn',\n",
       " 'me',\n",
       " 'on',\n",
       " 'and',\n",
       " 'burn',\n",
       " 'me',\n",
       " 'down',\n",
       " 'youre',\n",
       " 'a',\n",
       " 'wild',\n",
       " 'love',\n",
       " 'i',\n",
       " 'cant',\n",
       " 'tame',\n",
       " 'your',\n",
       " 'kisses',\n",
       " 'burn',\n",
       " 'like',\n",
       " 'flames',\n",
       " 'i',\n",
       " 'go',\n",
       " 'crazy',\n",
       " 'when',\n",
       " 'youre',\n",
       " 'around',\n",
       " 'so',\n",
       " 'touch',\n",
       " 'me',\n",
       " 'turn',\n",
       " 'me',\n",
       " 'on',\n",
       " 'and',\n",
       " 'burn',\n",
       " 'me',\n",
       " 'down',\n",
       " 'touch',\n",
       " 'me',\n",
       " 'turn',\n",
       " 'me',\n",
       " 'on',\n",
       " 'and',\n",
       " 'burn',\n",
       " 'me',\n",
       " 'down']"
      ]
     },
     "execution_count": 21,
     "metadata": {},
     "output_type": "execute_result"
    }
   ],
   "source": [
    "lyricWords[0]"
   ]
  },
  {
   "cell_type": "code",
   "execution_count": 22,
   "metadata": {},
   "outputs": [
    {
     "data": {
      "text/plain": [
       "165"
      ]
     },
     "execution_count": 22,
     "metadata": {},
     "output_type": "execute_result"
    }
   ],
   "source": [
    "len(lyricWords[0])"
   ]
  },
  {
   "cell_type": "code",
   "execution_count": 25,
   "metadata": {},
   "outputs": [],
   "source": [
    "for lws in range(len(lyricWords)):\n",
    "    lyricWords[lws] = [w for w in lyricWords[lws] if not w in stop_words]"
   ]
  },
  {
   "cell_type": "code",
   "execution_count": 26,
   "metadata": {
    "scrolled": true
   },
   "outputs": [
    {
     "data": {
      "text/plain": [
       "['touch',\n",
       " 'turn',\n",
       " 'burn',\n",
       " 'lips',\n",
       " 'hold',\n",
       " 'wild',\n",
       " 'desire',\n",
       " 'give',\n",
       " 'kiss',\n",
       " 'like',\n",
       " 'devils',\n",
       " 'fire',\n",
       " 'kind',\n",
       " 'love',\n",
       " 'could',\n",
       " 'burn',\n",
       " 'town',\n",
       " 'oh',\n",
       " 'touch',\n",
       " 'turn',\n",
       " 'burn',\n",
       " 'touch',\n",
       " 'brings',\n",
       " 'knees',\n",
       " 'youve',\n",
       " 'got',\n",
       " 'begging',\n",
       " 'please',\n",
       " 'please',\n",
       " 'please',\n",
       " 'take',\n",
       " 'heart',\n",
       " 'melt',\n",
       " 'touch',\n",
       " 'turn',\n",
       " 'burn',\n",
       " 'youre',\n",
       " 'wild',\n",
       " 'love',\n",
       " 'cant',\n",
       " 'tame',\n",
       " 'kisses',\n",
       " 'burn',\n",
       " 'like',\n",
       " 'flames',\n",
       " 'go',\n",
       " 'crazy',\n",
       " 'youre',\n",
       " 'around',\n",
       " 'touch',\n",
       " 'turn',\n",
       " 'burn',\n",
       " 'im',\n",
       " 'devoured',\n",
       " 'fiery',\n",
       " 'flame',\n",
       " 'lips',\n",
       " 'speak',\n",
       " 'name',\n",
       " 'spread',\n",
       " 'ashes',\n",
       " 'around',\n",
       " 'oh',\n",
       " 'touch',\n",
       " 'turn',\n",
       " 'burn',\n",
       " 'youre',\n",
       " 'wild',\n",
       " 'love',\n",
       " 'cant',\n",
       " 'tame',\n",
       " 'kisses',\n",
       " 'burn',\n",
       " 'like',\n",
       " 'flames',\n",
       " 'go',\n",
       " 'crazy',\n",
       " 'youre',\n",
       " 'around',\n",
       " 'touch',\n",
       " 'turn',\n",
       " 'burn',\n",
       " 'touch',\n",
       " 'turn',\n",
       " 'burn']"
      ]
     },
     "execution_count": 26,
     "metadata": {},
     "output_type": "execute_result"
    }
   ],
   "source": [
    "lyricWords[0]"
   ]
  },
  {
   "cell_type": "code",
   "execution_count": 27,
   "metadata": {},
   "outputs": [
    {
     "data": {
      "text/plain": [
       "85"
      ]
     },
     "execution_count": 27,
     "metadata": {},
     "output_type": "execute_result"
    }
   ],
   "source": [
    "len(lyricWords[0])"
   ]
  },
  {
   "cell_type": "markdown",
   "metadata": {},
   "source": [
    "## Get frequency of the words in each lyrics"
   ]
  },
  {
   "cell_type": "code",
   "execution_count": 28,
   "metadata": {},
   "outputs": [],
   "source": [
    "def freq_words(lyricWords):\n",
    "    frequency = nltk.FreqDist(lyricWords)\n",
    "\n",
    "    # Create the bag of words dataframe\n",
    "    bag_of_words = pd.DataFrame({\"words\": list(frequency.keys()), \"frequency\": list(frequency.values())})\n",
    "\n",
    "    del frequency\n",
    "\n",
    "    # Order by the Frequency\n",
    "    bag_of_words.sort_values(by=\"frequency\", ascending=False, inplace=True)\n",
    "    bag_of_words.reset_index(drop=True, inplace=True)\n",
    "    \n",
    "    freqWords = bag_of_words.head(5).iloc[:,0].values\n",
    "    \n",
    "    return freqWords\n",
    "\n",
    "#bag_of_words.to_csv('./files/bag-of-words.csv', index=True)"
   ]
  },
  {
   "cell_type": "code",
   "execution_count": 29,
   "metadata": {},
   "outputs": [],
   "source": [
    "freqWords = []\n",
    "for lws in lyricWords:\n",
    "    freqWords.append(freq_words(lws)) "
   ]
  },
  {
   "cell_type": "code",
   "execution_count": 30,
   "metadata": {},
   "outputs": [
    {
     "data": {
      "text/plain": [
       "array(['burn', 'touch', 'turn', 'youre', 'around'], dtype=object)"
      ]
     },
     "execution_count": 30,
     "metadata": {},
     "output_type": "execute_result"
    }
   ],
   "source": [
    "freqWords[0]"
   ]
  },
  {
   "cell_type": "code",
   "execution_count": 34,
   "metadata": {},
   "outputs": [],
   "source": [
    "file_name = '/Users/jiangruiyin/Desktop/proj/sentences/freqWords.csv'"
   ]
  },
  {
   "cell_type": "code",
   "execution_count": 36,
   "metadata": {},
   "outputs": [],
   "source": [
    "import csv\n",
    "import codecs"
   ]
  },
  {
   "cell_type": "code",
   "execution_count": 37,
   "metadata": {},
   "outputs": [],
   "source": [
    "data_write_csv(file_name, freqWords)"
   ]
  },
  {
   "cell_type": "code",
   "execution_count": 31,
   "metadata": {},
   "outputs": [
    {
     "data": {
      "text/plain": [
       "['touch me turn me on and burn me down',\n",
       " 'your lips hold a wild desire',\n",
       " 'and give a kiss like the devils fire',\n",
       " 'your kind of love could burn a town',\n",
       " 'oh touch me turn me on and burn me down',\n",
       " 'your touch brings me to my knees',\n",
       " 'youve got me begging please please please',\n",
       " 'take my heart and melt it down',\n",
       " 'touch me turn me on and burn me down',\n",
       " 'youre a wild love i cant tame',\n",
       " 'your kisses burn like flames',\n",
       " 'i go crazy when youre around',\n",
       " 'so touch me turn me on and burn me down',\n",
       " 'im devoured by your fiery flame',\n",
       " 'my lips can only speak your name',\n",
       " 'just spread my ashes all around',\n",
       " 'oh touch me turn me on and burn me down',\n",
       " 'youre a wild love i cant tame',\n",
       " 'your kisses burn like flames',\n",
       " 'i go crazy when youre around',\n",
       " 'so touch me turn me on and burn me down',\n",
       " 'touch me turn me on and burn me down']"
      ]
     },
     "execution_count": 31,
     "metadata": {},
     "output_type": "execute_result"
    }
   ],
   "source": [
    "lyricSens[0]"
   ]
  },
  {
   "cell_type": "markdown",
   "metadata": {},
   "source": [
    "## Get sentences with the most frequent 5 words in each lyrics "
   ]
  },
  {
   "cell_type": "code",
   "execution_count": 38,
   "metadata": {},
   "outputs": [],
   "source": [
    "def freq_sens(freqWords, lyricSens):\n",
    "    feqSens = []\n",
    "    for word in freqWords:\n",
    "        for sen in lyricSens:\n",
    "            if word in sen and sen not in feqSens:\n",
    "                feqSens.append(sen)  \n",
    "    return feqSens"
   ]
  },
  {
   "cell_type": "code",
   "execution_count": 39,
   "metadata": {},
   "outputs": [],
   "source": [
    "feqSens=[]\n",
    "for i in range(len(lyricSens)):\n",
    "    feqSens.append(freq_sens(freqWords[i], lyricSens[i]))"
   ]
  },
  {
   "cell_type": "code",
   "execution_count": 42,
   "metadata": {},
   "outputs": [
    {
     "data": {
      "text/plain": [
       "'your kind of love could burn a town'"
      ]
     },
     "execution_count": 42,
     "metadata": {},
     "output_type": "execute_result"
    }
   ],
   "source": [
    "feqSens[0][1]"
   ]
  },
  {
   "cell_type": "markdown",
   "metadata": {},
   "source": [
    "## Return sentence moods"
   ]
  },
  {
   "cell_type": "code",
   "execution_count": 44,
   "metadata": {},
   "outputs": [],
   "source": [
    "sentenceMood0 = []\n",
    "sentenceMood1 = []\n",
    "sentenceMood2 = []\n",
    "sentenceMood3 = []"
   ]
  },
  {
   "cell_type": "code",
   "execution_count": 45,
   "metadata": {},
   "outputs": [],
   "source": [
    "for i in range(len(labels)):\n",
    "    for fs in feqSens[i]:\n",
    "        if labels[i] == '0':\n",
    "            sentenceMood0.append([fs, 'angry'])\n",
    "        elif labels[i] == '1':\n",
    "            sentenceMood1.append([fs, 'happy'])\n",
    "        elif labels[i] == '2':\n",
    "            sentenceMood2.append([fs, 'relaxed'])\n",
    "        elif labels[i] == '3':\n",
    "            sentenceMood3.append([fs, 'sad'])"
   ]
  },
  {
   "cell_type": "code",
   "execution_count": 46,
   "metadata": {},
   "outputs": [
    {
     "data": {
      "text/plain": [
       "['i love you and cover you', 'angry']"
      ]
     },
     "execution_count": 46,
     "metadata": {},
     "output_type": "execute_result"
    }
   ],
   "source": [
    "sentenceMood0[-1]"
   ]
  },
  {
   "cell_type": "code",
   "execution_count": 47,
   "metadata": {},
   "outputs": [
    {
     "data": {
      "text/plain": [
       "['if we both were born in another place and time', 'happy']"
      ]
     },
     "execution_count": 47,
     "metadata": {},
     "output_type": "execute_result"
    }
   ],
   "source": [
    "sentenceMood1[-1]"
   ]
  },
  {
   "cell_type": "code",
   "execution_count": 48,
   "metadata": {},
   "outputs": [
    {
     "data": {
      "text/plain": [
       "['and i think to myself', 'relaxed']"
      ]
     },
     "execution_count": 48,
     "metadata": {},
     "output_type": "execute_result"
    }
   ],
   "source": [
    "sentenceMood2[0]"
   ]
  },
  {
   "cell_type": "code",
   "execution_count": 49,
   "metadata": {},
   "outputs": [
    {
     "data": {
      "text/plain": [
       "['dont go to yale', 'relaxed']"
      ]
     },
     "execution_count": 49,
     "metadata": {},
     "output_type": "execute_result"
    }
   ],
   "source": [
    "sentenceMood2[-1]"
   ]
  },
  {
   "cell_type": "code",
   "execution_count": 423,
   "metadata": {},
   "outputs": [
    {
     "data": {
      "text/plain": [
       "['but dont let me be lonely tonight', 'sad']"
      ]
     },
     "execution_count": 423,
     "metadata": {},
     "output_type": "execute_result"
    }
   ],
   "source": [
    "sentenceMood3[0]"
   ]
  },
  {
   "cell_type": "code",
   "execution_count": 424,
   "metadata": {},
   "outputs": [
    {
     "data": {
      "text/plain": [
       "['please come back', 'sad']"
      ]
     },
     "execution_count": 424,
     "metadata": {},
     "output_type": "execute_result"
    }
   ],
   "source": [
    "sentenceMood3[-1]"
   ]
  },
  {
   "cell_type": "markdown",
   "metadata": {},
   "source": [
    "## Save sentence moods in csv files"
   ]
  },
  {
   "cell_type": "code",
   "execution_count": 50,
   "metadata": {},
   "outputs": [],
   "source": [
    "sentenceMood = sentenceMood0 + sentenceMood1 + sentenceMood2 + sentenceMood3"
   ]
  },
  {
   "cell_type": "code",
   "execution_count": 51,
   "metadata": {},
   "outputs": [
    {
     "data": {
      "text/plain": [
       "24640"
      ]
     },
     "execution_count": 51,
     "metadata": {},
     "output_type": "execute_result"
    }
   ],
   "source": [
    "len(sentenceMood)"
   ]
  },
  {
   "cell_type": "code",
   "execution_count": 54,
   "metadata": {},
   "outputs": [
    {
     "data": {
      "text/plain": [
       "list"
      ]
     },
     "execution_count": 54,
     "metadata": {},
     "output_type": "execute_result"
    }
   ],
   "source": [
    "type(sentenceMood)"
   ]
  },
  {
   "cell_type": "code",
   "execution_count": 53,
   "metadata": {},
   "outputs": [
    {
     "data": {
      "text/plain": [
       "'touch me turn me on and burn me down'"
      ]
     },
     "execution_count": 53,
     "metadata": {},
     "output_type": "execute_result"
    }
   ],
   "source": [
    "sentenceMood[0][0]"
   ]
  },
  {
   "cell_type": "code",
   "execution_count": 55,
   "metadata": {},
   "outputs": [
    {
     "data": {
      "text/plain": [
       "9"
      ]
     },
     "execution_count": 55,
     "metadata": {},
     "output_type": "execute_result"
    }
   ],
   "source": [
    "len(sentenceMood[0][0].split())"
   ]
  },
  {
   "cell_type": "code",
   "execution_count": 56,
   "metadata": {},
   "outputs": [],
   "source": [
    "longSenMood=[]\n",
    "for i in range(len(sentenceMood)):\n",
    "    count = len(sentenceMood[i][0].split())\n",
    "    if count > 6:\n",
    "        longSenMood.append(sentenceMood[i])"
   ]
  },
  {
   "cell_type": "code",
   "execution_count": 57,
   "metadata": {},
   "outputs": [],
   "source": [
    "sen_path =  '/Users/jiangruiyin/Desktop/proj/sentences/longSenMood.csv'"
   ]
  },
  {
   "cell_type": "code",
   "execution_count": 58,
   "metadata": {},
   "outputs": [],
   "source": [
    "data_write_csv(sen_path, longSenMood)"
   ]
  },
  {
   "cell_type": "code",
   "execution_count": 427,
   "metadata": {},
   "outputs": [],
   "source": [
    "import csv\n",
    "import codecs"
   ]
  },
  {
   "cell_type": "code",
   "execution_count": 454,
   "metadata": {},
   "outputs": [],
   "source": [
    "file_path =  '/Users/jiangruiyin/Desktop/proj/sentences/sentenceMood.csv'\n",
    "\n",
    "file_path_0 =  '/Users/jiangruiyin/Desktop/proj/sentences/ANGRY_0.csv'\n",
    "file_path_1 =  '/Users/jiangruiyin/Desktop/proj/sentences/HAPPY_1.csv'\n",
    "file_path_2 =  '/Users/jiangruiyin/Desktop/proj/sentences/RELAXED_2.csv'\n",
    "file_path_3 =  '/Users/jiangruiyin/Desktop/proj/sentences/SAD_3.csv'"
   ]
  },
  {
   "cell_type": "code",
   "execution_count": 33,
   "metadata": {},
   "outputs": [],
   "source": [
    "def data_write_csv(file_name, datas):#file_name为写入CSV文件的路径，datas为要写入数据列表\n",
    "    with open(file_name, 'w', newline='') as csvfile:\n",
    "        writer  = csv.writer(csvfile)\n",
    "        for row in datas:\n",
    "            writer.writerow(row)"
   ]
  },
  {
   "cell_type": "code",
   "execution_count": 430,
   "metadata": {
    "scrolled": true
   },
   "outputs": [],
   "source": [
    "data_write_csv(file_path_0, sentenceMood0)\n",
    "data_write_csv(file_path_1, sentenceMood1)\n",
    "data_write_csv(file_path_2, sentenceMood2)\n",
    "data_write_csv(file_path_3, sentenceMood3)"
   ]
  },
  {
   "cell_type": "code",
   "execution_count": 455,
   "metadata": {},
   "outputs": [],
   "source": [
    "data_write_csv(file_path, sentenceMood)"
   ]
  },
  {
   "cell_type": "code",
   "execution_count": null,
   "metadata": {},
   "outputs": [],
   "source": []
  }
 ],
 "metadata": {
  "kernelspec": {
   "display_name": "Python 3",
   "language": "python",
   "name": "python3"
  },
  "language_info": {
   "codemirror_mode": {
    "name": "ipython",
    "version": 3
   },
   "file_extension": ".py",
   "mimetype": "text/x-python",
   "name": "python",
   "nbconvert_exporter": "python",
   "pygments_lexer": "ipython3",
   "version": "3.7.3"
  }
 },
 "nbformat": 4,
 "nbformat_minor": 4
}
