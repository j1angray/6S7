{
 "cells": [
  {
   "cell_type": "code",
   "execution_count": 1,
   "metadata": {},
   "outputs": [],
   "source": [
    "import numpy as np\n",
    "import pandas as pd\n",
    "import matplotlib.pyplot as plt\n",
    "import time"
   ]
  },
  {
   "cell_type": "code",
   "execution_count": 2,
   "metadata": {},
   "outputs": [],
   "source": [
    "import warnings\n",
    "warnings.filterwarnings(\"ignore\")"
   ]
  },
  {
   "cell_type": "code",
   "execution_count": 3,
   "metadata": {},
   "outputs": [
    {
     "name": "stderr",
     "output_type": "stream",
     "text": [
      "Using TensorFlow backend.\n"
     ]
    }
   ],
   "source": [
    "import keras\n",
    "from keras import utils"
   ]
  },
  {
   "cell_type": "code",
   "execution_count": 4,
   "metadata": {},
   "outputs": [],
   "source": [
    "from sklearn.feature_extraction.text import CountVectorizer\n",
    "from sklearn.feature_extraction.text import TfidfVectorizer\n",
    "\n",
    "from sklearn import svm\n",
    "from sklearn.naive_bayes import MultinomialNB\n",
    "from sklearn.naive_bayes import GaussianNB \n",
    "from sklearn.linear_model import LogisticRegression\n",
    "\n",
    "from sklearn.neighbors import KNeighborsClassifier\n",
    "from sklearn.tree import DecisionTreeClassifier\n",
    "\n",
    "from sklearn.multiclass import OneVsRestClassifier\n",
    "\n",
    "from sklearn.ensemble import AdaBoostClassifier\n",
    "from sklearn.ensemble import StackingClassifier\n",
    "from sklearn.ensemble import RandomForestClassifier\n",
    "\n",
    "from sklearn.model_selection import KFold\n",
    "from sklearn.model_selection import train_test_split\n",
    "from sklearn.model_selection import cross_val_score\n",
    "from sklearn.model_selection import GridSearchCV\n",
    "\n",
    "from sklearn.metrics import accuracy_score\n",
    "from sklearn.metrics import precision_score\n",
    "from sklearn.metrics import recall_score\n",
    "from sklearn.metrics import roc_curve, auc\n",
    "from sklearn.metrics import plot_roc_curve\n",
    "\n",
    "from sklearn.preprocessing import label_binarize"
   ]
  },
  {
   "cell_type": "markdown",
   "metadata": {},
   "source": [
    "## Data"
   ]
  },
  {
   "cell_type": "code",
   "execution_count": 5,
   "metadata": {},
   "outputs": [],
   "source": [
    "path = \"/Users/jiangruiyin/Desktop/657/data_cleaned(1).csv\""
   ]
  },
  {
   "cell_type": "code",
   "execution_count": 6,
   "metadata": {},
   "outputs": [],
   "source": [
    "data = pd.read_csv(path, header=None, names=['lyrics', 'label'])"
   ]
  },
  {
   "cell_type": "code",
   "execution_count": 7,
   "metadata": {},
   "outputs": [
    {
     "data": {
      "text/html": [
       "<div>\n",
       "<style scoped>\n",
       "    .dataframe tbody tr th:only-of-type {\n",
       "        vertical-align: middle;\n",
       "    }\n",
       "\n",
       "    .dataframe tbody tr th {\n",
       "        vertical-align: top;\n",
       "    }\n",
       "\n",
       "    .dataframe thead th {\n",
       "        text-align: right;\n",
       "    }\n",
       "</style>\n",
       "<table border=\"1\" class=\"dataframe\">\n",
       "  <thead>\n",
       "    <tr style=\"text-align: right;\">\n",
       "      <th></th>\n",
       "      <th>lyrics</th>\n",
       "      <th>label</th>\n",
       "    </tr>\n",
       "  </thead>\n",
       "  <tbody>\n",
       "    <tr>\n",
       "      <td>0</td>\n",
       "      <td>touch me turn me on and burn me down   your li...</td>\n",
       "      <td>0</td>\n",
       "    </tr>\n",
       "    <tr>\n",
       "      <td>1</td>\n",
       "      <td>well i dont give a damn that your cars on fire...</td>\n",
       "      <td>0</td>\n",
       "    </tr>\n",
       "    <tr>\n",
       "      <td>2</td>\n",
       "      <td>i saw you starin at each other i saw your eyes...</td>\n",
       "      <td>0</td>\n",
       "    </tr>\n",
       "    <tr>\n",
       "      <td>3</td>\n",
       "      <td>your cruel device your blood like ice one look...</td>\n",
       "      <td>0</td>\n",
       "    </tr>\n",
       "    <tr>\n",
       "      <td>4</td>\n",
       "      <td>stretch the bones over my skin stretch the ski...</td>\n",
       "      <td>0</td>\n",
       "    </tr>\n",
       "    <tr>\n",
       "      <td>...</td>\n",
       "      <td>...</td>\n",
       "      <td>...</td>\n",
       "    </tr>\n",
       "    <tr>\n",
       "      <td>2459</td>\n",
       "      <td>haces muy mal en elevar mi tensión en aplastar...</td>\n",
       "      <td>3</td>\n",
       "    </tr>\n",
       "    <tr>\n",
       "      <td>2460</td>\n",
       "      <td>cierro los ojos sin mirar atrás las cosas buen...</td>\n",
       "      <td>3</td>\n",
       "    </tr>\n",
       "    <tr>\n",
       "      <td>2461</td>\n",
       "      <td>una palomita blanca de piquito colorado ayer y...</td>\n",
       "      <td>3</td>\n",
       "    </tr>\n",
       "    <tr>\n",
       "      <td>2462</td>\n",
       "      <td>sólo una palabra se hubiera llevado el dolor c...</td>\n",
       "      <td>3</td>\n",
       "    </tr>\n",
       "    <tr>\n",
       "      <td>2463</td>\n",
       "      <td>lover please please come back dont take a trai...</td>\n",
       "      <td>3</td>\n",
       "    </tr>\n",
       "  </tbody>\n",
       "</table>\n",
       "<p>2464 rows × 2 columns</p>\n",
       "</div>"
      ],
      "text/plain": [
       "                                                 lyrics  label\n",
       "0     touch me turn me on and burn me down   your li...      0\n",
       "1     well i dont give a damn that your cars on fire...      0\n",
       "2     i saw you starin at each other i saw your eyes...      0\n",
       "3     your cruel device your blood like ice one look...      0\n",
       "4     stretch the bones over my skin stretch the ski...      0\n",
       "...                                                 ...    ...\n",
       "2459  haces muy mal en elevar mi tensión en aplastar...      3\n",
       "2460  cierro los ojos sin mirar atrás las cosas buen...      3\n",
       "2461  una palomita blanca de piquito colorado ayer y...      3\n",
       "2462  sólo una palabra se hubiera llevado el dolor c...      3\n",
       "2463  lover please please come back dont take a trai...      3\n",
       "\n",
       "[2464 rows x 2 columns]"
      ]
     },
     "execution_count": 7,
     "metadata": {},
     "output_type": "execute_result"
    }
   ],
   "source": [
    "data"
   ]
  },
  {
   "cell_type": "code",
   "execution_count": 8,
   "metadata": {},
   "outputs": [],
   "source": [
    "labels = data.iloc[:,1]\n",
    "lyrics = data.iloc[:,0]"
   ]
  },
  {
   "cell_type": "code",
   "execution_count": 9,
   "metadata": {},
   "outputs": [
    {
     "data": {
      "text/plain": [
       "3"
      ]
     },
     "execution_count": 9,
     "metadata": {},
     "output_type": "execute_result"
    }
   ],
   "source": [
    "labels[2462]"
   ]
  },
  {
   "cell_type": "code",
   "execution_count": 10,
   "metadata": {},
   "outputs": [
    {
     "data": {
      "text/plain": [
       "'sólo una palabra se hubiera llevado el dolor con el beso amargo de aquel licor hubiera bastado mi amor sólo una mentira se viene conmigo a pasear sentirme querida en aquel abrazo en el mar  con el vestido azul que un día conociste me marcho sin saber si me besaste antes de irte te di mi corazón y tú lo regalaste te di todo el amor que pude darte y me robaste he rasgado mi vestido con una copa de vino hoy tu amor corta como el cristal  en el cielo hay playas donde ves la vida pasar donde los recuerdos no hacen llorar vienen muy despacio y se van sólo una caricia me hubiera ayudado a olvidar que no eran mis labios los que ahora te hacen soñar  con el vestido azul que un día conociste me marcho sin saber si me besaste antes de irte te di mi corazón y tú lo regalaste te di todo el amor que pude darte y me robaste he rasgado mi vestido con una copa de vino hoy tu amor corta como el cristal buena suerte en tu camino yo ya tengo mi destino con mi sangre escribo este final'"
      ]
     },
     "execution_count": 10,
     "metadata": {},
     "output_type": "execute_result"
    }
   ],
   "source": [
    "lyrics[2462]"
   ]
  },
  {
   "cell_type": "code",
   "execution_count": 11,
   "metadata": {},
   "outputs": [
    {
     "data": {
      "text/plain": [
       "0       touch me turn me on and burn me down   your li...\n",
       "1       well i dont give a damn that your cars on fire...\n",
       "2       i saw you starin at each other i saw your eyes...\n",
       "3       your cruel device your blood like ice one look...\n",
       "4       stretch the bones over my skin stretch the ski...\n",
       "                              ...                        \n",
       "2459    haces muy mal en elevar mi tensión en aplastar...\n",
       "2460    cierro los ojos sin mirar atrás las cosas buen...\n",
       "2461    una palomita blanca de piquito colorado ayer y...\n",
       "2462    sólo una palabra se hubiera llevado el dolor c...\n",
       "2463    lover please please come back dont take a trai...\n",
       "Name: lyrics, Length: 2464, dtype: object"
      ]
     },
     "execution_count": 11,
     "metadata": {},
     "output_type": "execute_result"
    }
   ],
   "source": [
    "lyrics"
   ]
  },
  {
   "cell_type": "code",
   "execution_count": 12,
   "metadata": {},
   "outputs": [],
   "source": [
    "X_train, X_val, y_train, y_val = train_test_split(lyrics, labels, test_size=0.2, random_state=42)"
   ]
  },
  {
   "cell_type": "code",
   "execution_count": 13,
   "metadata": {},
   "outputs": [
    {
     "data": {
      "text/plain": [
       "1375    listen to the girl as she takes on half the wo...\n",
       "903     have yourself a merry little christmas let you...\n",
       "1939    the show is over partys just begun im high ton...\n",
       "1325    one day well walk in the sun  my name is verno...\n",
       "1995    mercy dont think shes pretty no more starin at...\n",
       "                              ...                        \n",
       "1638    ive seen god in the sun ive seen god in the st...\n",
       "1095    i dont want another heartbreak i dont need ano...\n",
       "1130    id gladly walk across the desert with no shoes...\n",
       "1294    our god is an awesome god he reigns from heave...\n",
       "860     i dont want you anymore cause you took my joy ...\n",
       "Name: lyrics, Length: 1971, dtype: object"
      ]
     },
     "execution_count": 13,
     "metadata": {},
     "output_type": "execute_result"
    }
   ],
   "source": [
    "X_train"
   ]
  },
  {
   "cell_type": "markdown",
   "metadata": {},
   "source": [
    "## TfidfVectorizer"
   ]
  },
  {
   "cell_type": "code",
   "execution_count": 14,
   "metadata": {},
   "outputs": [
    {
     "data": {
      "text/plain": [
       "TfidfVectorizer(analyzer='word', binary=False, decode_error='ignore',\n",
       "                dtype=<class 'numpy.float64'>, encoding='utf-8',\n",
       "                input='content', lowercase=True, max_df=1.0, max_features=None,\n",
       "                min_df=1, ngram_range=(1, 1), norm='l2', preprocessor=None,\n",
       "                smooth_idf=True,\n",
       "                stop_words=['i', 'me', 'my', 'myself', 'we', 'our', 'ours',\n",
       "                            'ourselves', 'you', \"you're\", \"you've\", \"you'll\",\n",
       "                            \"you'd\", 'your', 'yours', 'yourself', 'yourselves',\n",
       "                            'he', 'him', 'his', 'himself', 'she', \"she's\",\n",
       "                            'her', 'hers', 'herself', 'it', \"it's\", 'its',\n",
       "                            'itself', ...],\n",
       "                strip_accents=None, sublinear_tf=False,\n",
       "                token_pattern='(?u)\\\\b\\\\w\\\\w+\\\\b', tokenizer=None, use_idf=True,\n",
       "                vocabulary=None)"
      ]
     },
     "execution_count": 14,
     "metadata": {},
     "output_type": "execute_result"
    }
   ],
   "source": [
    "from nltk.corpus import stopwords\n",
    "# stopwords\n",
    "stop_words_EN = stopwords.words('english')\n",
    "stop_words_SP = stopwords.words('spanish')\n",
    "stop_words = stop_words_EN + stop_words_SP\n",
    "# TF-IDF\n",
    "tf_transfomer = TfidfVectorizer(stop_words=stop_words, decode_error='ignore')\n",
    "tf_transfomer.fit(lyrics)"
   ]
  },
  {
   "cell_type": "code",
   "execution_count": 15,
   "metadata": {},
   "outputs": [],
   "source": [
    "X_train_counts_tf = tf_transfomer.transform(X_train)\n",
    "X_val_counts_tf = tf_transfomer.transform(X_val)"
   ]
  },
  {
   "cell_type": "code",
   "execution_count": 16,
   "metadata": {},
   "outputs": [
    {
     "data": {
      "text/plain": [
       "<1971x14817 sparse matrix of type '<class 'numpy.float64'>'\n",
       "\twith 90867 stored elements in Compressed Sparse Row format>"
      ]
     },
     "execution_count": 16,
     "metadata": {},
     "output_type": "execute_result"
    }
   ],
   "source": [
    "X_train_counts_tf"
   ]
  },
  {
   "cell_type": "code",
   "execution_count": 17,
   "metadata": {},
   "outputs": [
    {
     "data": {
      "text/plain": [
       "<493x14817 sparse matrix of type '<class 'numpy.float64'>'\n",
       "\twith 22506 stored elements in Compressed Sparse Row format>"
      ]
     },
     "execution_count": 17,
     "metadata": {},
     "output_type": "execute_result"
    }
   ],
   "source": [
    "X_val_counts_tf"
   ]
  },
  {
   "cell_type": "markdown",
   "metadata": {},
   "source": [
    "## Paras Tuning of base models"
   ]
  },
  {
   "cell_type": "code",
   "execution_count": 21,
   "metadata": {},
   "outputs": [],
   "source": [
    "num_folds = 10\n",
    "seed = 42\n",
    "scoring = 'accuracy'"
   ]
  },
  {
   "cell_type": "code",
   "execution_count": 22,
   "metadata": {},
   "outputs": [
    {
     "name": "stdout",
     "output_type": "stream",
     "text": [
      "Time for training: 0.31728100776672363 seconds \n",
      "Best accuracy: 0.7843562528841717 ; alpha: {'alpha': 0.05}\n"
     ]
    }
   ],
   "source": [
    "#Naive Bayes\n",
    "param_grid = {}\n",
    "param_grid['alpha'] = [0.001,0.01,0.05,0.1,0.5,1,5]\n",
    "model = MultinomialNB()\n",
    "kfold = KFold(n_splits=num_folds, random_state=seed)\n",
    "grid = GridSearchCV(estimator = model, param_grid = param_grid, scoring = scoring, cv = kfold)\n",
    "start = time.time()\n",
    "grid_result = grid.fit(X = X_train_counts_tf, y = y_train)\n",
    "print(\"Time for training: %s seconds \" % (time.time() - start))\n",
    "print('Best accuracy: %s ; alpha: %s' % (grid_result.best_score_, grid_result.best_params_))"
   ]
  },
  {
   "cell_type": "code",
   "execution_count": 125,
   "metadata": {},
   "outputs": [
    {
     "name": "stdout",
     "output_type": "stream",
     "text": [
      "Time for fitting and validation: 0.012161970138549805 seconds \n",
      "Naive Bayes Accuracy:  0.7768762677484787\n",
      "Naive Bayes Precision:  0.8009795765408835\n",
      "Naive Bayes Recall:  0.8009795765408835\n"
     ]
    }
   ],
   "source": [
    "nb = MultinomialNB(alpha=0.05)\n",
    "start = time.time()\n",
    "nb.fit(X_train_counts_tf,y_train)\n",
    "y_predict = nb.predict(X_val_counts_tf)\n",
    "print(\"Time for fitting and validation: %s seconds \" % (time.time() - start))\n",
    "lg_accuracy = accuracy_score(y_val, y_predict)\n",
    "lg_precision = precision_score(y_val, y_predict, average='weighted')\n",
    "lg_recall = recall_score(y_val, y_predict, average='weighted')\n",
    "\n",
    "print(\"Naive Bayes Accuracy: \", lg_accuracy)\n",
    "print(\"Naive Bayes Precision: \", lg_precision)\n",
    "print(\"Naive Bayes Recall: \", lg_precision)"
   ]
  },
  {
   "cell_type": "code",
   "execution_count": 23,
   "metadata": {},
   "outputs": [
    {
     "name": "stdout",
     "output_type": "stream",
     "text": [
      "Time for training: 23.98217272758484 seconds \n",
      "Best accuracy: 0.9254037840332255 ; C: {'C': 15}\n"
     ]
    }
   ],
   "source": [
    "#Logistic Regression\n",
    "param_grid = {}\n",
    "param_grid['C'] = [0.1,5,13,15]\n",
    "model = LogisticRegression()\n",
    "kfold = KFold(n_splits = num_folds, random_state = seed)\n",
    "grid = GridSearchCV(estimator = model, param_grid = param_grid, scoring = scoring, cv = kfold)\n",
    "start = time.time()\n",
    "grid_result = grid.fit(X = X_train_counts_tf, y = y_train)\n",
    "print(\"Time for training: %s seconds \" % (time.time() - start))\n",
    "print('Best accuracy: %s ; C: %s' % (grid_result.best_score_, grid_result.best_params_))"
   ]
  },
  {
   "cell_type": "code",
   "execution_count": 126,
   "metadata": {},
   "outputs": [
    {
     "name": "stdout",
     "output_type": "stream",
     "text": [
      "Time for fitting and validation: 0.7938120365142822 seconds \n",
      "Logistic Regression Accuracy:  0.922920892494929\n",
      "Logistic Regression Precision:  0.9246612763436424\n",
      "Logistic Regression Recall:  0.9246612763436424\n"
     ]
    }
   ],
   "source": [
    "lg = LogisticRegression(C=15)\n",
    "start = time.time()\n",
    "lg.fit(X_train_counts_tf,y_train)\n",
    "y_predict = lg.predict(X_val_counts_tf)\n",
    "print(\"Time for fitting and validation: %s seconds \" % (time.time() - start))\n",
    "lg_accuracy = accuracy_score(y_val, y_predict)\n",
    "lg_precision = precision_score(y_val, y_predict, average='weighted')\n",
    "lg_recall = recall_score(y_val, y_predict, average='weighted')\n",
    "\n",
    "print(\"Logistic Regression Accuracy: \", lg_accuracy)\n",
    "print(\"Logistic Regression Precision: \", lg_precision)\n",
    "print(\"Logistic Regression Recall: \", lg_precision)"
   ]
  },
  {
   "cell_type": "code",
   "execution_count": 24,
   "metadata": {},
   "outputs": [
    {
     "name": "stdout",
     "output_type": "stream",
     "text": [
      "Time for training: 103.87794876098633 seconds \n",
      "Best accuracy: 0.9345357124544942 ; C: {'C': 10, 'kernel': 'linear'}\n"
     ]
    }
   ],
   "source": [
    "# SVC\n",
    "param_grid = {}\n",
    "param_grid['C'] = [1,10,20]\n",
    "param_grid['kernel'] = ['rbf','linear']\n",
    "model = svm.SVC(gamma = 'auto')\n",
    "kfold = KFold(n_splits = num_folds,random_state = seed)\n",
    "grid = GridSearchCV(estimator = model, param_grid = param_grid, scoring = scoring, cv = kfold)\n",
    "start = time.time()\n",
    "grid_result = grid.fit(X = X_train_counts_tf, y = y_train)\n",
    "print(\"Time for training: %s seconds \" % (time.time() - start))\n",
    "print('Best accuracy: %s ; C: %s' % (grid_result.best_score_, grid_result.best_params_))"
   ]
  },
  {
   "cell_type": "code",
   "execution_count": 69,
   "metadata": {},
   "outputs": [
    {
     "name": "stdout",
     "output_type": "stream",
     "text": [
      "Time for fitting and validation: 1.8260841369628906 seconds \n",
      "SVC Accuracy:  0.9249492900608519\n",
      "SVC Precision:  0.9257154018539834\n",
      "SVC Recall:  0.9257154018539834\n"
     ]
    }
   ],
   "source": [
    "svc = svm.SVC(gamma = 'auto',C = 10, kernel = 'linear')\n",
    "start = time.time()\n",
    "svc.fit(X_train_counts_tf,y_train)\n",
    "y_predict = svc.predict(X_val_counts_tf)\n",
    "print(\"Time for fitting and validation: %s seconds \" % (time.time() - start))\n",
    "svc_accuracy = accuracy_score(y_val, y_predict)\n",
    "svc_precision = precision_score(y_val, y_predict, average='weighted')\n",
    "svc_recall = recall_score(y_val, y_predict, average='weighted')\n",
    "\n",
    "print(\"SVC Accuracy: \", svc_accuracy)\n",
    "print(\"SVC Precision: \", svc_precision)\n",
    "print(\"SVC Recall: \", svc_precision)"
   ]
  },
  {
   "cell_type": "markdown",
   "metadata": {},
   "source": [
    "## Ensemble Models"
   ]
  },
  {
   "cell_type": "code",
   "execution_count": 133,
   "metadata": {},
   "outputs": [
    {
     "name": "stdout",
     "output_type": "stream",
     "text": [
      "Time for training: 103.97739291191101 seconds \n",
      "Best accuracy : 0.7975465313028763 n_estimators: {'n_estimators': 150}\n"
     ]
    }
   ],
   "source": [
    "param_grid = {}\n",
    "param_grid['n_estimators'] = [10,100,150,200]\n",
    "model = RandomForestClassifier()\n",
    "kfold = KFold(n_splits=num_folds,random_state=seed)\n",
    "grid = GridSearchCV(estimator=model, param_grid=param_grid, scoring=scoring, cv=kfold)\n",
    "start = time.time()\n",
    "grid_result = grid.fit(X=X_train_counts_tf, y=y_train)\n",
    "print(\"Time for training: %s seconds \" % (time.time() - start))\n",
    "print('Best accuracy : %s n_estimators: %s' % (grid_result.best_score_, grid_result.best_params_))"
   ]
  },
  {
   "cell_type": "code",
   "execution_count": 134,
   "metadata": {},
   "outputs": [
    {
     "name": "stdout",
     "output_type": "stream",
     "text": [
      "Time for training and validation: 3.7780869007110596 seconds \n",
      "Accuracy: 0.7991886409736308 \n"
     ]
    }
   ],
   "source": [
    "#RandomForest\n",
    "rf =RandomForestClassifier(n_estimators = 150)\n",
    "start = time.time()\n",
    "score = rf.fit(X_train_counts_tf, y_train).score(X_val_counts_tf, y_val)\n",
    "print(\"Time for training and validation: %s seconds \" % (time.time() - start))\n",
    "print('Accuracy: %s ' % score)"
   ]
  },
  {
   "cell_type": "code",
   "execution_count": 18,
   "metadata": {},
   "outputs": [
    {
     "name": "stdout",
     "output_type": "stream",
     "text": [
      "Time for training and validation: 20.80814003944397 seconds \n",
      "Accuracy: 0.9802130898021308 \n"
     ]
    }
   ],
   "source": [
    "#AdaBoost\n",
    "clf = AdaBoostClassifier(base_estimator = LogisticRegression(C=15), algorithm='SAMME', n_estimators=300, learning_rate=0.8)\n",
    "start = time.time()\n",
    "score = clf.fit(X_train_counts_tf, y_train).score(X_train_counts_tf, y_train)\n",
    "print(\"Time for training and validation: %s seconds \" % (time.time() - start))\n",
    "print('Accuracy: %s ' % score)"
   ]
  },
  {
   "cell_type": "code",
   "execution_count": 81,
   "metadata": {},
   "outputs": [
    {
     "name": "stdout",
     "output_type": "stream",
     "text": [
      "Time for training and validation: 20.552058219909668 seconds \n",
      "Accuracy: 0.8985801217038539 \n"
     ]
    }
   ],
   "source": [
    "#AdaBoost\n",
    "clf = AdaBoostClassifier(base_estimator = LogisticRegression(C=15), algorithm='SAMME', n_estimators=300, learning_rate=0.8)\n",
    "start = time.time()\n",
    "score = clf.fit(X_train_counts_tf, y_train).score(X_val_counts_tf, y_val)\n",
    "print(\"Time for training and validation: %s seconds \" % (time.time() - start))\n",
    "print('Accuracy: %s ' % score)"
   ]
  },
  {
   "cell_type": "code",
   "execution_count": 19,
   "metadata": {},
   "outputs": [],
   "source": [
    "base_learners = [('clf_1', LogisticRegression(C = 15)),\n",
    "                 ('clf_2', svm.SVC(gamma = 'auto',C = 10, kernel = 'linear')) ]"
   ]
  },
  {
   "cell_type": "code",
   "execution_count": 21,
   "metadata": {},
   "outputs": [
    {
     "name": "stdout",
     "output_type": "stream",
     "text": [
      "Time for training and validation: 13.979164123535156 seconds \n",
      "Accuracy: 0.9822425164890918 \n"
     ]
    }
   ],
   "source": [
    "#Stack\n",
    "stack = StackingClassifier(estimators = base_learners, final_estimator = LogisticRegression())\n",
    "start = time.time()\n",
    "score_ = stack.fit(X_train_counts_tf, y_train).score(X_train_counts_tf, y_train)\n",
    "print(\"Time for training and validation: %s seconds \" % (time.time() - start))\n",
    "print('Accuracy: %s ' % score_)"
   ]
  },
  {
   "cell_type": "code",
   "execution_count": 21,
   "metadata": {},
   "outputs": [
    {
     "name": "stdout",
     "output_type": "stream",
     "text": [
      "Time for training and validation: 12.444783926010132 seconds \n",
      "Accuracy: 0.9249492900608519 \n"
     ]
    }
   ],
   "source": [
    "#Stack\n",
    "stack = StackingClassifier(estimators = base_learners, final_estimator = LogisticRegression())\n",
    "start = time.time()\n",
    "score_ = stack.fit(X_train_counts_tf, y_train).score(X_val_counts_tf, y_val)\n",
    "print(\"Time for training and validation: %s seconds \" % (time.time() - start))\n",
    "print('Accuracy: %s ' % score_)"
   ]
  },
  {
   "cell_type": "code",
   "execution_count": 23,
   "metadata": {},
   "outputs": [
    {
     "name": "stdout",
     "output_type": "stream",
     "text": [
      "Time for training and validation: 13.644291877746582 seconds \n",
      "Accuracy: 0.9822425164890918 \n"
     ]
    }
   ],
   "source": [
    "#Stack\n",
    "stack1 = StackingClassifier(estimators = base_learners, final_estimator = svm.SVC())\n",
    "start = time.time()\n",
    "score_ = stack1.fit(X_train_counts_tf, y_train).score(X_train_counts_tf, y_train)\n",
    "print(\"Time for training and validation: %s seconds \" % (time.time() - start))\n",
    "print('Accuracy: %s ' % score_)"
   ]
  },
  {
   "cell_type": "code",
   "execution_count": 82,
   "metadata": {},
   "outputs": [
    {
     "name": "stdout",
     "output_type": "stream",
     "text": [
      "Time for training and validation: 12.253381967544556 seconds \n",
      "Accuracy: 0.9310344827586207 \n"
     ]
    }
   ],
   "source": [
    "#Stack\n",
    "stack_ = StackingClassifier(estimators = base_learners, final_estimator = svm.SVC())\n",
    "start = time.time()\n",
    "score__ = stack_.fit(X_train_counts_tf, y_train).score(X_val_counts_tf, y_val)\n",
    "print(\"Time for training and validation: %s seconds \" % (time.time() - start))\n",
    "print('Accuracy: %s ' % score__)"
   ]
  },
  {
   "cell_type": "markdown",
   "metadata": {},
   "source": [
    "## ROC Curve"
   ]
  },
  {
   "cell_type": "code",
   "execution_count": 65,
   "metadata": {},
   "outputs": [
    {
     "data": {
      "image/png": "[encoded data removed]",
      "text/plain": [
       "<Figure size 432x288 with 1 Axes>"
      ]
     },
     "metadata": {
      "needs_background": "light"
     },
     "output_type": "display_data"
    }
   ],
   "source": [
    "ytrain = label_binarize(y_train, classes=[0,1,2,3])\n",
    "ytest = label_binarize(y_test, classes=[0,1,2,3])\n",
    "n_classes = 4\n",
    "\n",
    "# classifier\n",
    "clf = OneVsRestClassifier(clf)\n",
    "y_score = clf.fit(X_train_counts_tf, ytrain).decision_function(X_test_counts_tf)\n",
    "\n",
    "fpr = dict()\n",
    "tpr = dict()\n",
    "roc_auc = dict()\n",
    "for i in range(n_classes):\n",
    "    fpr[i], tpr[i], _ = roc_curve(ytest[:, i], y_score[:, i])\n",
    "    roc_auc[i] = auc(fpr[i], tpr[i])\n",
    "    \n",
    "plt.figure()\n",
    "\n",
    "for i in range(n_classes):\n",
    "    plt.plot(fpr[i], tpr[i], label='ROC curve of class {0} (area = {1:0.2f})'''.format(i, roc_auc[i]))\n",
    "    \n",
    "plt.plot([0, 1], [0, 1], 'k--')\n",
    "plt.xlim([0.0, 1.0])\n",
    "plt.ylim([0.0, 1.05])\n",
    "plt.xlabel('False Positive Rate')\n",
    "plt.ylabel('True Positive Rate')\n",
    "plt.title('Receiver operating characteristic')\n",
    "plt.legend(loc=\"lower right\")\n",
    "plt.show()"
   ]
  },
  {
   "cell_type": "code",
   "execution_count": 67,
   "metadata": {},
   "outputs": [
    {
     "data": {
      "image/png": "[encoded data removed]",
      "text/plain": [
       "<Figure size 432x288 with 1 Axes>"
      ]
     },
     "metadata": {
      "needs_background": "light"
     },
     "output_type": "display_data"
    }
   ],
   "source": [
    "ytrain = label_binarize(y_train, classes=[0,1,2,3])\n",
    "ytest = label_binarize(y_test, classes=[0,1,2,3])\n",
    "n_classes = 4\n",
    "\n",
    "# classifier\n",
    "clf = OneVsRestClassifier(stack)\n",
    "y_score = clf.fit(X_train_counts_tf, ytrain).decision_function(X_test_counts_tf)\n",
    "\n",
    "fpr = dict()\n",
    "tpr = dict()\n",
    "roc_auc = dict()\n",
    "for i in range(n_classes):\n",
    "    fpr[i], tpr[i], _ = roc_curve(ytest[:, i], y_score[:, i])\n",
    "    roc_auc[i] = auc(fpr[i], tpr[i])\n",
    "    \n",
    "plt.figure()\n",
    "\n",
    "for i in range(n_classes):\n",
    "    plt.plot(fpr[i], tpr[i], label='ROC curve of class {0} (area = {1:0.2f})'''.format(i, roc_auc[i]))\n",
    "    \n",
    "plt.plot([0, 1], [0, 1], 'k--')\n",
    "plt.xlim([0.0, 1.0])\n",
    "plt.ylim([0.0, 1.05])\n",
    "plt.xlabel('False Positive Rate')\n",
    "plt.ylabel('True Positive Rate')\n",
    "plt.title('Receiver operating characteristic')\n",
    "plt.legend(loc=\"lower right\")\n",
    "plt.show()"
   ]
  },
  {
   "cell_type": "code",
   "execution_count": 68,
   "metadata": {},
   "outputs": [
    {
     "data": {
      "image/png": "[encoded data removed]",
      "text/plain": [
       "<Figure size 432x288 with 1 Axes>"
      ]
     },
     "metadata": {
      "needs_background": "light"
     },
     "output_type": "display_data"
    }
   ],
   "source": [
    "ytrain = label_binarize(y_train, classes=[0,1,2,3])\n",
    "ytest = label_binarize(y_test, classes=[0,1,2,3])\n",
    "n_classes = 4\n",
    "\n",
    "# classifier\n",
    "clf = OneVsRestClassifier(stack)\n",
    "y_score = clf.fit(X_train_counts_tf, ytrain).decision_function(X_test_counts_tf)\n",
    "\n",
    "fpr = dict()\n",
    "tpr = dict()\n",
    "roc_auc = dict()\n",
    "for i in range(n_classes):\n",
    "    fpr[i], tpr[i], _ = roc_curve(ytest[:, i], y_score[:, i])\n",
    "    roc_auc[i] = auc(fpr[i], tpr[i])\n",
    "    \n",
    "plt.figure()\n",
    "\n",
    "for i in range(n_classes):\n",
    "    plt.plot(fpr[i], tpr[i], label='ROC curve of class {0} (area = {1:0.2f})'''.format(i, roc_auc[i]))\n",
    "    \n",
    "plt.plot([0, 1], [0, 1], 'k--')\n",
    "plt.xlim([0.0, 1.0])\n",
    "plt.ylim([0.0, 1.05])\n",
    "plt.xlabel('False Positive Rate')\n",
    "plt.ylabel('True Positive Rate')\n",
    "plt.title('Receiver operating characteristic')\n",
    "plt.legend(loc=\"lower right\")\n",
    "plt.show()"
   ]
  },
  {
   "cell_type": "code",
   "execution_count": 70,
   "metadata": {},
   "outputs": [
    {
     "data": {
      "text/plain": [
       "1375    2\n",
       "903     1\n",
       "1939    3\n",
       "1325    2\n",
       "1995    3\n",
       "       ..\n",
       "1638    2\n",
       "1095    1\n",
       "1130    1\n",
       "1294    1\n",
       "860     1\n",
       "Name: label, Length: 1971, dtype: int64"
      ]
     },
     "execution_count": 70,
     "metadata": {},
     "output_type": "execute_result"
    }
   ],
   "source": [
    "y_train"
   ]
  },
  {
   "cell_type": "code",
   "execution_count": 88,
   "metadata": {},
   "outputs": [],
   "source": [
    "ytrain2 = np.array(y_train) == 1"
   ]
  },
  {
   "cell_type": "code",
   "execution_count": 89,
   "metadata": {},
   "outputs": [],
   "source": [
    "ytest2 = np.array(y_test) == 1"
   ]
  },
  {
   "cell_type": "code",
   "execution_count": 90,
   "metadata": {},
   "outputs": [],
   "source": [
    "base_learners = [('clf_1', LogisticRegression(C = 15)),\n",
    "                 ('clf_2', svm.SVC(gamma = 'auto',C = 10, kernel = 'linear')) ]"
   ]
  },
  {
   "cell_type": "code",
   "execution_count": 92,
   "metadata": {},
   "outputs": [
    {
     "data": {
      "image/png": "[encoded data removed]",
      "text/plain": [
       "<Figure size 432x288 with 1 Axes>"
      ]
     },
     "metadata": {
      "needs_background": "light"
     },
     "output_type": "display_data"
    }
   ],
   "source": [
    "svc = svm.SVC(gamma = 'auto',C = 10, kernel = 'linear')\n",
    "svc.fit(X_train_counts_tf, ytrain2)\n",
    "\n",
    "lg = LogisticRegression(C = 15)\n",
    "lg.fit(X_train_counts_tf, ytrain2)\n",
    "\n",
    "stack_ = StackingClassifier(estimators = base_learners, final_estimator = LogisticRegression())\n",
    "stack_.fit(X_train_counts_tf, ytrain2)\n",
    "\n",
    "svc_disp = plot_roc_curve(svc, X_test_counts_tf, ytest2, alpha=0.8, name='SVC')\n",
    "ax = plt.gca()\n",
    "rfc_disp = plot_roc_curve(lg, X_test_counts_tf, ytest2, ax=ax, alpha=0.8, name='LogisticRegression')\n",
    "#svc_disp.plot(ax=ax, alpha=0.8)\n",
    "\n",
    "#svc_disp = plot_roc_curve(svc, X_test_counts_tf, ytest2, alpha=0.8, name='SVC')\n",
    "#rfc_disp = plot_roc_curve(lg, X_test_counts_tf, ytest2, alpha=0.8, name='LogisticRegression')\n",
    "stack_disp = plot_roc_curve(stack_, X_test_counts_tf,ytest2,ax=ax, alpha=0.8, name='Stacking')\n",
    "\n",
    "\n",
    "plt.plot([0, 1], [0, 1], 'k--')\n",
    "plt.show()"
   ]
  },
  {
   "cell_type": "markdown",
   "metadata": {},
   "source": [
    "## Test"
   ]
  },
  {
   "cell_type": "code",
   "execution_count": 23,
   "metadata": {},
   "outputs": [],
   "source": [
    "testpath = \"/Users/jiangruiyin/Desktop/657/test_data.csv\""
   ]
  },
  {
   "cell_type": "code",
   "execution_count": 24,
   "metadata": {},
   "outputs": [],
   "source": [
    "testdata = pd.read_csv(testpath, header=None, names=['lyrics', 'label'])"
   ]
  },
  {
   "cell_type": "code",
   "execution_count": 25,
   "metadata": {},
   "outputs": [
    {
     "data": {
      "text/html": [
       "<div>\n",
       "<style scoped>\n",
       "    .dataframe tbody tr th:only-of-type {\n",
       "        vertical-align: middle;\n",
       "    }\n",
       "\n",
       "    .dataframe tbody tr th {\n",
       "        vertical-align: top;\n",
       "    }\n",
       "\n",
       "    .dataframe thead th {\n",
       "        text-align: right;\n",
       "    }\n",
       "</style>\n",
       "<table border=\"1\" class=\"dataframe\">\n",
       "  <thead>\n",
       "    <tr style=\"text-align: right;\">\n",
       "      <th></th>\n",
       "      <th>lyrics</th>\n",
       "      <th>label</th>\n",
       "    </tr>\n",
       "  </thead>\n",
       "  <tbody>\n",
       "    <tr>\n",
       "      <td>0</td>\n",
       "      <td>See the pyramids along the Nile  Watch the sun...</td>\n",
       "      <td>2</td>\n",
       "    </tr>\n",
       "    <tr>\n",
       "      <td>1</td>\n",
       "      <td>We rented a truck and a semi to go  Travel dow...</td>\n",
       "      <td>1</td>\n",
       "    </tr>\n",
       "    <tr>\n",
       "      <td>2</td>\n",
       "      <td>Im tired twisted barely breathing buried in th...</td>\n",
       "      <td>3</td>\n",
       "    </tr>\n",
       "    <tr>\n",
       "      <td>3</td>\n",
       "      <td>Yesterday I died tomorrows bleeding Fall into ...</td>\n",
       "      <td>3</td>\n",
       "    </tr>\n",
       "    <tr>\n",
       "      <td>4</td>\n",
       "      <td>You put the boomboom into my heart You send my...</td>\n",
       "      <td>1</td>\n",
       "    </tr>\n",
       "    <tr>\n",
       "      <td>...</td>\n",
       "      <td>...</td>\n",
       "      <td>...</td>\n",
       "    </tr>\n",
       "    <tr>\n",
       "      <td>377</td>\n",
       "      <td>He deals the cards as a meditation  And those ...</td>\n",
       "      <td>3</td>\n",
       "    </tr>\n",
       "    <tr>\n",
       "      <td>378</td>\n",
       "      <td>Ive seen the dark side of the moon  walked on ...</td>\n",
       "      <td>2</td>\n",
       "    </tr>\n",
       "    <tr>\n",
       "      <td>379</td>\n",
       "      <td>The local rock group down the street Is trying...</td>\n",
       "      <td>1</td>\n",
       "    </tr>\n",
       "    <tr>\n",
       "      <td>380</td>\n",
       "      <td>Dont label me a monster  Im a monster just lik...</td>\n",
       "      <td>0</td>\n",
       "    </tr>\n",
       "    <tr>\n",
       "      <td>381</td>\n",
       "      <td>Wait a minute hey just a minute  I just need a...</td>\n",
       "      <td>1</td>\n",
       "    </tr>\n",
       "  </tbody>\n",
       "</table>\n",
       "<p>382 rows × 2 columns</p>\n",
       "</div>"
      ],
      "text/plain": [
       "                                                lyrics  label\n",
       "0    See the pyramids along the Nile  Watch the sun...      2\n",
       "1    We rented a truck and a semi to go  Travel dow...      1\n",
       "2    Im tired twisted barely breathing buried in th...      3\n",
       "3    Yesterday I died tomorrows bleeding Fall into ...      3\n",
       "4    You put the boomboom into my heart You send my...      1\n",
       "..                                                 ...    ...\n",
       "377  He deals the cards as a meditation  And those ...      3\n",
       "378  Ive seen the dark side of the moon  walked on ...      2\n",
       "379  The local rock group down the street Is trying...      1\n",
       "380  Dont label me a monster  Im a monster just lik...      0\n",
       "381  Wait a minute hey just a minute  I just need a...      1\n",
       "\n",
       "[382 rows x 2 columns]"
      ]
     },
     "execution_count": 25,
     "metadata": {},
     "output_type": "execute_result"
    }
   ],
   "source": [
    "testdata"
   ]
  },
  {
   "cell_type": "code",
   "execution_count": 52,
   "metadata": {},
   "outputs": [],
   "source": [
    "y_test = testdata['label'].values"
   ]
  },
  {
   "cell_type": "code",
   "execution_count": 53,
   "metadata": {},
   "outputs": [
    {
     "data": {
      "text/plain": [
       "array([2, 1, 3, 3, 1, 1, 3, 0, 3, 0, 2, 2, 2, 2, 2, 0, 3, 3, 0, 2, 2, 1,\n",
       "       1, 3, 1, 1, 2, 1, 3, 2, 2, 0, 0, 3, 0, 3, 1, 2, 0, 1, 0, 0, 0, 1,\n",
       "       3, 2, 3, 0, 0, 1, 0, 2, 1, 0, 1, 1, 1, 2, 3, 0, 3, 3, 2, 3, 1, 1,\n",
       "       2, 0, 0, 2, 3, 1, 2, 2, 2, 0, 0, 1, 2, 2, 3, 3, 2, 0, 1, 2, 1, 3,\n",
       "       1, 1, 2, 0, 2, 3, 2, 0, 2, 2, 1, 3, 3, 2, 2, 2, 0, 2, 2, 3, 2, 1,\n",
       "       0, 3, 0, 1, 3, 3, 3, 2, 0, 2, 1, 1, 3, 2, 1, 1, 1, 1, 1, 2, 1, 1,\n",
       "       3, 1, 1, 3, 2, 1, 3, 1, 1, 3, 2, 1, 0, 3, 0, 3, 1, 1, 2, 1, 3, 3,\n",
       "       3, 3, 1, 0, 3, 1, 3, 1, 1, 3, 2, 2, 0, 2, 0, 3, 3, 0, 2, 2, 1, 2,\n",
       "       3, 1, 3, 2, 2, 3, 0, 2, 2, 3, 2, 0, 2, 1, 1, 1, 1, 2, 2, 3, 0, 2,\n",
       "       1, 2, 3, 0, 3, 3, 3, 2, 1, 1, 1, 1, 2, 3, 1, 2, 2, 2, 3, 1, 1, 1,\n",
       "       1, 0, 3, 1, 1, 3, 2, 3, 1, 3, 0, 1, 0, 0, 0, 3, 2, 1, 2, 3, 0, 3,\n",
       "       0, 1, 0, 1, 2, 3, 0, 0, 1, 0, 0, 1, 2, 2, 2, 3, 3, 3, 2, 3, 1, 2,\n",
       "       0, 3, 1, 2, 0, 3, 0, 0, 2, 0, 2, 3, 3, 3, 1, 2, 0, 3, 1, 2, 0, 0,\n",
       "       0, 2, 3, 1, 1, 2, 1, 3, 1, 3, 1, 0, 0, 2, 2, 2, 1, 1, 2, 1, 3, 3,\n",
       "       2, 2, 1, 1, 3, 3, 1, 1, 2, 1, 3, 0, 2, 3, 0, 1, 2, 3, 0, 0, 3, 1,\n",
       "       3, 0, 2, 1, 1, 2, 2, 0, 0, 1, 2, 3, 3, 3, 1, 3, 3, 1, 1, 3, 3, 2,\n",
       "       2, 1, 2, 1, 3, 0, 1, 3, 3, 1, 3, 0, 2, 3, 1, 0, 1, 3, 2, 2, 2, 0,\n",
       "       3, 2, 2, 3, 2, 1, 0, 1])"
      ]
     },
     "execution_count": 53,
     "metadata": {},
     "output_type": "execute_result"
    }
   ],
   "source": [
    "y_test"
   ]
  },
  {
   "cell_type": "code",
   "execution_count": 63,
   "metadata": {},
   "outputs": [],
   "source": [
    "X_test = testdata['lyrics'].values.astype('U')"
   ]
  },
  {
   "cell_type": "code",
   "execution_count": 65,
   "metadata": {},
   "outputs": [
    {
     "data": {
      "text/plain": [
       "(382,)"
      ]
     },
     "execution_count": 65,
     "metadata": {},
     "output_type": "execute_result"
    }
   ],
   "source": [
    "X_test.shape"
   ]
  },
  {
   "cell_type": "code",
   "execution_count": 72,
   "metadata": {},
   "outputs": [],
   "source": [
    "#tf_transfomer_ = TfidfVectorizer(stop_words=stop_words, decode_error='ignore')\n",
    "X_test_tf = tf_transfomer.transform(X_test)"
   ]
  },
  {
   "cell_type": "code",
   "execution_count": 73,
   "metadata": {},
   "outputs": [
    {
     "name": "stdout",
     "output_type": "stream",
     "text": [
      "0.3010471204188482\n"
     ]
    }
   ],
   "source": [
    "y_pred = svc.predict(X_test_tf)\n",
    "accu = accuracy_score(y_test, y_pred)\n",
    "print(accu)"
   ]
  },
  {
   "cell_type": "code",
   "execution_count": 84,
   "metadata": {},
   "outputs": [
    {
     "name": "stdout",
     "output_type": "stream",
     "text": [
      "0.2801047120418848\n"
     ]
    }
   ],
   "source": [
    "print(clf.score(X_test_tf, y_test))"
   ]
  },
  {
   "cell_type": "code",
   "execution_count": 85,
   "metadata": {
    "scrolled": true
   },
   "outputs": [
    {
     "name": "stdout",
     "output_type": "stream",
     "text": [
      "0.3089005235602094\n"
     ]
    }
   ],
   "source": [
    "print(stack_.score(X_test_tf, y_test))"
   ]
  },
  {
   "cell_type": "markdown",
   "metadata": {},
   "source": [
    "## The best stacking model"
   ]
  },
  {
   "cell_type": "code",
   "execution_count": 75,
   "metadata": {},
   "outputs": [],
   "source": [
    "y_pred = stack.predict(X_test_tf)"
   ]
  },
  {
   "cell_type": "code",
   "execution_count": 76,
   "metadata": {},
   "outputs": [
    {
     "data": {
      "text/plain": [
       "array([3, 3, 3, 3, 3, 1, 0, 0, 0, 3, 0, 3, 0, 2, 3, 3, 2, 0, 3, 1, 1, 2,\n",
       "       3, 0, 3, 2, 0, 3, 0, 3, 0, 0, 3, 3, 0, 1, 2, 3, 0, 1, 0, 2, 3, 3,\n",
       "       0, 3, 2, 0, 3, 3, 0, 3, 1, 0, 0, 3, 2, 3, 3, 2, 0, 2, 1, 2, 3, 3,\n",
       "       1, 3, 0, 0, 1, 2, 2, 3, 0, 2, 3, 1, 3, 0, 2, 3, 2, 0, 2, 2, 3, 0,\n",
       "       1, 0, 3, 3, 3, 2, 1, 0, 2, 2, 3, 2, 1, 1, 0, 0, 3, 2, 3, 1, 0, 0,\n",
       "       3, 1, 2, 1, 1, 3, 1, 2, 0, 2, 2, 0, 3, 2, 2, 3, 2, 0, 3, 2, 2, 1,\n",
       "       3, 3, 1, 0, 2, 3, 2, 2, 3, 3, 2, 1, 3, 3, 0, 3, 3, 2, 2, 1, 1, 0,\n",
       "       0, 1, 3, 0, 3, 0, 0, 3, 3, 3, 1, 2, 3, 3, 2, 2, 2, 3, 1, 3, 1, 2,\n",
       "       2, 2, 2, 3, 3, 2, 3, 0, 3, 0, 3, 3, 0, 2, 3, 1, 2, 1, 3, 2, 0, 1,\n",
       "       1, 1, 2, 3, 2, 3, 3, 3, 2, 3, 0, 2, 3, 0, 1, 3, 1, 1, 0, 0, 2, 2,\n",
       "       3, 3, 3, 3, 3, 2, 2, 1, 0, 3, 0, 3, 3, 0, 0, 1, 1, 2, 0, 1, 0, 3,\n",
       "       0, 2, 3, 3, 2, 0, 0, 0, 2, 3, 2, 0, 1, 2, 2, 0, 2, 2, 2, 2, 3, 3,\n",
       "       0, 2, 1, 1, 0, 2, 0, 3, 0, 3, 2, 1, 2, 3, 0, 2, 2, 0, 2, 0, 0, 3,\n",
       "       3, 3, 0, 3, 2, 2, 2, 3, 1, 3, 1, 0, 0, 1, 2, 1, 2, 3, 2, 2, 3, 3,\n",
       "       3, 3, 1, 0, 3, 2, 2, 2, 3, 2, 2, 0, 1, 2, 0, 2, 3, 2, 0, 3, 0, 1,\n",
       "       0, 3, 2, 2, 2, 3, 3, 3, 3, 3, 2, 3, 2, 3, 2, 0, 1, 2, 3, 2, 3, 3,\n",
       "       3, 2, 2, 2, 3, 0, 1, 3, 3, 2, 3, 0, 3, 3, 2, 3, 2, 0, 3, 3, 2, 3,\n",
       "       2, 2, 2, 1, 0, 3, 3, 3])"
      ]
     },
     "execution_count": 76,
     "metadata": {},
     "output_type": "execute_result"
    }
   ],
   "source": [
    "y_pred"
   ]
  },
  {
   "cell_type": "code",
   "execution_count": 77,
   "metadata": {},
   "outputs": [
    {
     "data": {
      "text/plain": [
       "(382,)"
      ]
     },
     "execution_count": 77,
     "metadata": {},
     "output_type": "execute_result"
    }
   ],
   "source": [
    "y_pred.shape"
   ]
  },
  {
   "cell_type": "code",
   "execution_count": 79,
   "metadata": {},
   "outputs": [
    {
     "name": "stdout",
     "output_type": "stream",
     "text": [
      "0.306282722513089\n"
     ]
    }
   ],
   "source": [
    "print(stack.score(X_test_tf, y_test))"
   ]
  },
  {
   "cell_type": "code",
   "execution_count": 39,
   "metadata": {},
   "outputs": [],
   "source": [
    "from sklearn.metrics import confusion_matrix\n",
    "from sklearn.metrics import ConfusionMatrixDisplay"
   ]
  },
  {
   "cell_type": "code",
   "execution_count": 48,
   "metadata": {},
   "outputs": [],
   "source": [
    "cm = confusion_matrix(y_test, y_pred)\n",
    "display_labels = ['Angry', 'Happy', 'Sad', 'Relaxed']\n",
    "#cm_display = ConfusionMatrixDisplay(cm, display_labels=display_labels).plot()"
   ]
  },
  {
   "cell_type": "code",
   "execution_count": 86,
   "metadata": {},
   "outputs": [
    {
     "data": {
      "image/png": "[encoded data removed]",
      "text/plain": [
       "<Figure size 432x288 with 2 Axes>"
      ]
     },
     "metadata": {
      "needs_background": "light"
     },
     "output_type": "display_data"
    }
   ],
   "source": [
    "from sklearn.metrics import plot_confusion_matrix\n",
    "display_labels = ['Angry', 'Happy', 'Sad', 'Relaxed']\n",
    "plot_confusion_matrix(classifier, X_test, y_test, display_labels=display_labels, cmap = 'Blues')  \n",
    "plt.show()"
   ]
  },
  {
   "cell_type": "code",
   "execution_count": 87,
   "metadata": {},
   "outputs": [
    {
     "name": "stdout",
     "output_type": "stream",
     "text": [
      "              precision    recall  f1-score   support\n",
      "\n",
      "       Angry       0.39      0.46      0.42        72\n",
      "       Happy       0.37      0.19      0.25       107\n",
      "         Sad       0.29      0.31      0.30       103\n",
      "     Relaxed       0.24      0.32      0.27       100\n",
      "\n",
      "    accuracy                           0.31       382\n",
      "   macro avg       0.32      0.32      0.31       382\n",
      "weighted avg       0.32      0.31      0.30       382\n",
      "\n"
     ]
    }
   ],
   "source": [
    "from sklearn.metrics import classification_report\n",
    "target_names = ['Angry', 'Happy', 'Sad', 'Relaxed']\n",
    "print(classification_report(y_test, y_pred, target_names=target_names))"
   ]
  },
  {
   "cell_type": "code",
   "execution_count": null,
   "metadata": {},
   "outputs": [],
   "source": []
  }
 ],
 "metadata": {
  "kernelspec": {
   "display_name": "Python 3",
   "language": "python",
   "name": "python3"
  },
  "language_info": {
   "codemirror_mode": {
    "name": "ipython",
    "version": 3
   },
   "file_extension": ".py",
   "mimetype": "text/x-python",
   "name": "python",
   "nbconvert_exporter": "python",
   "pygments_lexer": "ipython3",
   "version": "3.7.3"
  }
 },
 "nbformat": 4,
 "nbformat_minor": 4
}
