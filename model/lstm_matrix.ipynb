{
 "cells": [
  {
   "cell_type": "code",
   "execution_count": 3,
   "metadata": {},
   "outputs": [],
   "source": [
    "import numpy as np\n",
    "import pandas as pd\n",
    "import matplotlib.pyplot as plt"
   ]
  },
  {
   "cell_type": "code",
   "execution_count": 4,
   "metadata": {},
   "outputs": [],
   "source": [
    "import warnings\n",
    "warnings.filterwarnings(\"ignore\")"
   ]
  },
  {
   "cell_type": "code",
   "execution_count": 5,
   "metadata": {},
   "outputs": [],
   "source": [
    "from sklearn.model_selection import train_test_split"
   ]
  },
  {
   "cell_type": "code",
   "execution_count": 24,
   "metadata": {},
   "outputs": [],
   "source": [
    "import keras\n",
    "from keras import utils\n",
    "from keras.preprocessing import sequence \n",
    "from keras.preprocessing.text import Tokenizer\n",
    "from keras.models import Model, Sequential\n",
    "from keras.layers import LSTM, Activation, Dense, Dropout, Input, Embedding\n",
    "from keras.optimizers import RMSprop"
   ]
  },
  {
   "cell_type": "code",
   "execution_count": 6,
   "metadata": {},
   "outputs": [
    {
     "name": "stderr",
     "output_type": "stream",
     "text": [
      "[nltk_data] Downloading package stopwords to\n",
      "[nltk_data]     /Users/jiangruiyin/nltk_data...\n",
      "[nltk_data]   Package stopwords is already up-to-date!\n"
     ]
    }
   ],
   "source": [
    "import nltk\n",
    "nltk.download('stopwords')\n",
    "from nltk.corpus import stopwords\n",
    "from nltk.tokenize import RegexpTokenizer"
   ]
  },
  {
   "cell_type": "code",
   "execution_count": 13,
   "metadata": {},
   "outputs": [],
   "source": [
    "path = \"/Users/jiangruiyin/Desktop/proj/data_cleaned(1).csv\"\n",
    "data = pd.read_csv(path, header=None, names=['lyrics', 'label'])"
   ]
  },
  {
   "cell_type": "code",
   "execution_count": 14,
   "metadata": {},
   "outputs": [],
   "source": [
    "labels = data.iloc[:,1]\n",
    "lyrics = data.iloc[:,0]"
   ]
  },
  {
   "cell_type": "code",
   "execution_count": 15,
   "metadata": {},
   "outputs": [
    {
     "data": {
      "text/plain": [
       "'touch me turn me on and burn me down   your lips hold a wild desire and give a kiss like the devils fire your kind of love could burn a town oh touch me turn me on and burn me down  your touch brings me to my knees youve got me begging please please please take my heart and melt it down touch me turn me on and burn me down  youre a wild love i cant tame your kisses burn like flames i go crazy when youre around so touch me turn me on and burn me down  im devoured by your fiery flame my lips can only speak your name just spread my ashes all around oh touch me turn me on and burn me down  youre a wild love i cant tame your kisses burn like flames i go crazy when youre around so touch me turn me on and burn me down touch me turn me on and burn me down'"
      ]
     },
     "execution_count": 15,
     "metadata": {},
     "output_type": "execute_result"
    }
   ],
   "source": [
    "lyrics[0]"
   ]
  },
  {
   "cell_type": "code",
   "execution_count": 1,
   "metadata": {},
   "outputs": [],
   "source": [
    "max_words = 150\n",
    "max_len = 200"
   ]
  },
  {
   "cell_type": "code",
   "execution_count": 16,
   "metadata": {
    "scrolled": true
   },
   "outputs": [],
   "source": [
    "xtrain = lyrics"
   ]
  },
  {
   "cell_type": "code",
   "execution_count": 19,
   "metadata": {},
   "outputs": [],
   "source": [
    "ytrain = utils.to_categorical(labels, 4)"
   ]
  },
  {
   "cell_type": "code",
   "execution_count": 20,
   "metadata": {},
   "outputs": [],
   "source": [
    "X_train, X_test, y_train, y_test = train_test_split(xtrain, ytrain, test_size=0.2, random_state=42)"
   ]
  },
  {
   "cell_type": "code",
   "execution_count": 21,
   "metadata": {},
   "outputs": [],
   "source": [
    "max_words = 150\n",
    "max_len = 200\n",
    "tok = Tokenizer(num_words=max_words)\n",
    "tok.fit_on_texts(X_train)\n",
    "sequences = tok.texts_to_sequences(X_train)\n",
    "sequences_matrix = sequence.pad_sequences(sequences, maxlen=max_len)"
   ]
  },
  {
   "cell_type": "code",
   "execution_count": 40,
   "metadata": {},
   "outputs": [
    {
     "data": {
      "text/plain": [
       "(1971, 200)"
      ]
     },
     "execution_count": 40,
     "metadata": {},
     "output_type": "execute_result"
    }
   ],
   "source": [
    "sequences_matrix.shape"
   ]
  },
  {
   "cell_type": "code",
   "execution_count": 43,
   "metadata": {},
   "outputs": [
    {
     "data": {
      "text/plain": [
       "array([  0,   0,   0,   0,   0,   0,   0,   0,   0,   0,   0,   0,   0,\n",
       "         0,   0,   0,   0,   0,   0,   0,   0,   0,   0,   0,   0,   0,\n",
       "         0,   0,   0,   0,   0,   0,   0,   0,   0,   0,   0,   0,   0,\n",
       "         0,   0,   0,   0,   0,   0,   0,   0,   0,   0,   0,   0,   0,\n",
       "         0,   0,   0,   0,   0,   0,   0,   0,   0,   0,   0,   0,   0,\n",
       "         0,   0,   0,   0,   0,   0,   0,   0,   0,   0,   0,   0,   0,\n",
       "         0,   0,   0,   0,   0,   0,   0,   0,   0,   0,   0,   0,   0,\n",
       "         0,   0,   0,   0,   0,   0,   0,   0,   0,   0,   0,   0,   0,\n",
       "         0,   0,   0,   0,   0,   0,   0,   5,   3,  58,  94,  74,  17,\n",
       "         3,  97,  47,   6,  21,  10,  95,  26,  91,  21,  91,  26,  21,\n",
       "        91,  21,  91, 107,   5,   1,  14,   3,  16,   2,  39,  36,  16,\n",
       "         2,  39,  36,  19,   1,  19,   1,  56,  20,  12,  56,  20,  12,\n",
       "        19,   1,  47,   3,  14,   3,  19,   7,   5,  36,  32,  31,  32,\n",
       "        31,  32,  31,  32,  31,  32,  31,  32,  31,  32,  31,  32,  31,\n",
       "        32,  31,  32,  31,  32,  31,  32,  31,  32,  31,  32,  31,  32,\n",
       "        31,  32,  31,  32,  31], dtype=int32)"
      ]
     },
     "execution_count": 43,
     "metadata": {},
     "output_type": "execute_result"
    }
   ],
   "source": [
    "sequences_matrix[0]"
   ]
  },
  {
   "cell_type": "code",
   "execution_count": 44,
   "metadata": {},
   "outputs": [
    {
     "name": "stdout",
     "output_type": "stream",
     "text": [
      "Model: \"sequential_3\"\n",
      "_________________________________________________________________\n",
      "Layer (type)                 Output Shape              Param #   \n",
      "=================================================================\n",
      "embedding_4 (Embedding)      (None, 200, 50)           7500      \n",
      "_________________________________________________________________\n",
      "lstm_4 (LSTM)                (None, 32)                10624     \n",
      "_________________________________________________________________\n",
      "dense_5 (Dense)              (None, 256)               8448      \n",
      "_________________________________________________________________\n",
      "dropout_4 (Dropout)          (None, 256)               0         \n",
      "_________________________________________________________________\n",
      "dense_6 (Dense)              (None, 4)                 1028      \n",
      "=================================================================\n",
      "Total params: 27,600\n",
      "Trainable params: 27,600\n",
      "Non-trainable params: 0\n",
      "_________________________________________________________________\n"
     ]
    }
   ],
   "source": [
    "model = Sequential()\n",
    "model.add(Embedding(max_words,50,input_length=max_len))\n",
    "model.add(LSTM(32))\n",
    "model.add(Dense(256, activation='relu'))\n",
    "model.add(Dropout(0.2))\n",
    "model.add(Dense(4, activation='softmax'))\n",
    "model.summary()"
   ]
  },
  {
   "cell_type": "code",
   "execution_count": 45,
   "metadata": {},
   "outputs": [],
   "source": [
    "model.compile(loss='categorical_crossentropy',optimizer=RMSprop(),metrics=['accuracy'])"
   ]
  },
  {
   "cell_type": "code",
   "execution_count": 46,
   "metadata": {
    "scrolled": false
   },
   "outputs": [
    {
     "name": "stdout",
     "output_type": "stream",
     "text": [
      "Train on 1576 samples, validate on 395 samples\n",
      "Epoch 1/50\n",
      "1576/1576 [==============================] - 11s 7ms/step - loss: 1.3041 - accuracy: 0.4143 - val_loss: 1.0866 - val_accuracy: 0.5063\n",
      "Epoch 2/50\n",
      "1576/1576 [==============================] - 8s 5ms/step - loss: 1.0696 - accuracy: 0.4873 - val_loss: 0.9430 - val_accuracy: 0.5544\n",
      "Epoch 3/50\n",
      "1576/1576 [==============================] - 8s 5ms/step - loss: 0.9613 - accuracy: 0.5247 - val_loss: 0.8857 - val_accuracy: 0.5772\n",
      "Epoch 4/50\n",
      "1576/1576 [==============================] - 8s 5ms/step - loss: 0.9172 - accuracy: 0.5660 - val_loss: 0.8677 - val_accuracy: 0.6127\n",
      "Epoch 5/50\n",
      "1576/1576 [==============================] - 8s 5ms/step - loss: 0.8565 - accuracy: 0.6129 - val_loss: 0.8454 - val_accuracy: 0.5899\n",
      "Epoch 6/50\n",
      "1576/1576 [==============================] - 8s 5ms/step - loss: 0.8399 - accuracy: 0.6313 - val_loss: 0.8800 - val_accuracy: 0.6051\n",
      "Epoch 7/50\n",
      "1576/1576 [==============================] - 9s 5ms/step - loss: 0.7965 - accuracy: 0.6643 - val_loss: 0.9113 - val_accuracy: 0.6380\n",
      "Epoch 8/50\n",
      "1576/1576 [==============================] - 8s 5ms/step - loss: 0.7644 - accuracy: 0.6789 - val_loss: 0.8790 - val_accuracy: 0.6354\n",
      "Epoch 9/50\n",
      "1576/1576 [==============================] - 9s 6ms/step - loss: 0.7611 - accuracy: 0.6948 - val_loss: 0.8512 - val_accuracy: 0.6430\n",
      "Epoch 10/50\n",
      "1576/1576 [==============================] - 8s 5ms/step - loss: 0.7403 - accuracy: 0.6948 - val_loss: 0.8416 - val_accuracy: 0.6380\n",
      "Epoch 11/50\n",
      "1576/1576 [==============================] - 9s 5ms/step - loss: 0.6876 - accuracy: 0.7088 - val_loss: 0.9421 - val_accuracy: 0.6304\n",
      "Epoch 12/50\n",
      "1576/1576 [==============================] - 10s 6ms/step - loss: 0.6849 - accuracy: 0.7043 - val_loss: 0.8763 - val_accuracy: 0.6278\n",
      "Epoch 13/50\n",
      "1576/1576 [==============================] - 9s 6ms/step - loss: 0.6524 - accuracy: 0.7259 - val_loss: 0.8314 - val_accuracy: 0.6278\n",
      "Epoch 14/50\n",
      "1576/1576 [==============================] - 9s 6ms/step - loss: 0.6310 - accuracy: 0.7379 - val_loss: 0.8602 - val_accuracy: 0.6608\n",
      "Epoch 15/50\n",
      "1576/1576 [==============================] - 9s 5ms/step - loss: 0.5940 - accuracy: 0.7475 - val_loss: 0.9019 - val_accuracy: 0.6481\n",
      "Epoch 16/50\n",
      "1576/1576 [==============================] - 8s 5ms/step - loss: 0.5749 - accuracy: 0.7608 - val_loss: 0.9505 - val_accuracy: 0.6810\n",
      "Epoch 17/50\n",
      "1576/1576 [==============================] - 8s 5ms/step - loss: 0.5240 - accuracy: 0.7843 - val_loss: 0.9954 - val_accuracy: 0.6658\n",
      "Epoch 18/50\n",
      "1576/1576 [==============================] - 8s 5ms/step - loss: 0.5355 - accuracy: 0.7855 - val_loss: 0.8943 - val_accuracy: 0.6532\n",
      "Epoch 19/50\n",
      "1576/1576 [==============================] - 9s 5ms/step - loss: 0.4944 - accuracy: 0.8084 - val_loss: 0.8676 - val_accuracy: 0.6557\n",
      "Epoch 20/50\n",
      "1576/1576 [==============================] - 9s 5ms/step - loss: 0.4728 - accuracy: 0.8141 - val_loss: 0.7730 - val_accuracy: 0.6633\n",
      "Epoch 21/50\n",
      "1576/1576 [==============================] - 10s 6ms/step - loss: 0.5032 - accuracy: 0.8122 - val_loss: 0.7580 - val_accuracy: 0.6684\n",
      "Epoch 22/50\n",
      "1576/1576 [==============================] - 9s 6ms/step - loss: 0.4422 - accuracy: 0.8280 - val_loss: 0.9121 - val_accuracy: 0.6861\n",
      "Epoch 23/50\n",
      "1576/1576 [==============================] - 9s 6ms/step - loss: 0.4386 - accuracy: 0.8414 - val_loss: 0.9949 - val_accuracy: 0.6709\n",
      "Epoch 24/50\n",
      "1576/1576 [==============================] - 8s 5ms/step - loss: 0.4372 - accuracy: 0.8312 - val_loss: 0.8495 - val_accuracy: 0.6785\n",
      "Epoch 25/50\n",
      "1576/1576 [==============================] - 9s 6ms/step - loss: 0.4607 - accuracy: 0.8249 - val_loss: 0.8090 - val_accuracy: 0.6962\n",
      "Epoch 26/50\n",
      "1576/1576 [==============================] - 9s 6ms/step - loss: 0.4203 - accuracy: 0.8382 - val_loss: 1.0190 - val_accuracy: 0.6684\n",
      "Epoch 27/50\n",
      "1576/1576 [==============================] - 9s 6ms/step - loss: 0.4162 - accuracy: 0.8515 - val_loss: 0.9355 - val_accuracy: 0.6835\n",
      "Epoch 28/50\n",
      "1576/1576 [==============================] - 9s 5ms/step - loss: 0.4091 - accuracy: 0.8401 - val_loss: 0.8876 - val_accuracy: 0.6886\n",
      "Epoch 29/50\n",
      "1576/1576 [==============================] - 9s 6ms/step - loss: 0.4192 - accuracy: 0.8452 - val_loss: 1.0021 - val_accuracy: 0.6987\n",
      "Epoch 30/50\n",
      "1576/1576 [==============================] - 9s 5ms/step - loss: 0.4146 - accuracy: 0.8464 - val_loss: 0.9737 - val_accuracy: 0.6886\n",
      "Epoch 31/50\n",
      "1576/1576 [==============================] - 8s 5ms/step - loss: 0.4307 - accuracy: 0.8420 - val_loss: 0.8991 - val_accuracy: 0.6937\n",
      "Epoch 32/50\n",
      "1576/1576 [==============================] - 9s 6ms/step - loss: 0.3844 - accuracy: 0.8636 - val_loss: 1.0025 - val_accuracy: 0.7013\n",
      "Epoch 33/50\n",
      "1576/1576 [==============================] - 9s 5ms/step - loss: 0.4132 - accuracy: 0.8490 - val_loss: 0.9291 - val_accuracy: 0.6861\n",
      "Epoch 34/50\n",
      "1576/1576 [==============================] - 9s 6ms/step - loss: 0.3898 - accuracy: 0.8579 - val_loss: 0.8917 - val_accuracy: 0.7063\n",
      "Epoch 35/50\n",
      "1576/1576 [==============================] - 9s 6ms/step - loss: 0.3892 - accuracy: 0.8484 - val_loss: 0.9121 - val_accuracy: 0.6886\n",
      "Epoch 36/50\n",
      "1576/1576 [==============================] - 9s 6ms/step - loss: 0.4009 - accuracy: 0.8496 - val_loss: 0.9843 - val_accuracy: 0.6886\n",
      "Epoch 37/50\n",
      "1576/1576 [==============================] - 9s 5ms/step - loss: 0.3611 - accuracy: 0.8706 - val_loss: 0.9337 - val_accuracy: 0.6911\n",
      "Epoch 38/50\n",
      "1576/1576 [==============================] - 9s 6ms/step - loss: 0.3932 - accuracy: 0.8560 - val_loss: 0.9513 - val_accuracy: 0.6861\n",
      "Epoch 39/50\n",
      "1576/1576 [==============================] - 10s 6ms/step - loss: 0.3872 - accuracy: 0.8547 - val_loss: 0.9888 - val_accuracy: 0.6861\n",
      "Epoch 40/50\n",
      "1576/1576 [==============================] - 9s 6ms/step - loss: 0.3903 - accuracy: 0.8585 - val_loss: 1.0033 - val_accuracy: 0.7038\n",
      "Epoch 41/50\n",
      "1576/1576 [==============================] - 9s 6ms/step - loss: 0.3946 - accuracy: 0.8572 - val_loss: 0.9012 - val_accuracy: 0.6911\n",
      "Epoch 42/50\n",
      "1576/1576 [==============================] - 9s 6ms/step - loss: 0.3533 - accuracy: 0.8718 - val_loss: 0.9421 - val_accuracy: 0.6886\n",
      "Epoch 43/50\n",
      "1576/1576 [==============================] - 9s 6ms/step - loss: 0.3577 - accuracy: 0.8737 - val_loss: 1.0447 - val_accuracy: 0.6962\n",
      "Epoch 44/50\n",
      "1576/1576 [==============================] - 8s 5ms/step - loss: 0.3892 - accuracy: 0.8553 - val_loss: 0.9073 - val_accuracy: 0.7063\n",
      "Epoch 45/50\n",
      "1576/1576 [==============================] - 8s 5ms/step - loss: 0.3480 - accuracy: 0.8731 - val_loss: 1.0075 - val_accuracy: 0.6911\n",
      "Epoch 46/50\n",
      "1576/1576 [==============================] - 8s 5ms/step - loss: 0.3409 - accuracy: 0.8813 - val_loss: 0.9569 - val_accuracy: 0.7190\n",
      "Epoch 47/50\n",
      "1576/1576 [==============================] - 8s 5ms/step - loss: 0.3691 - accuracy: 0.8617 - val_loss: 0.9813 - val_accuracy: 0.7013\n",
      "Epoch 48/50\n",
      "1576/1576 [==============================] - 8s 5ms/step - loss: 0.3499 - accuracy: 0.8668 - val_loss: 1.3463 - val_accuracy: 0.6684\n",
      "Epoch 49/50\n",
      "1576/1576 [==============================] - 9s 5ms/step - loss: 0.3697 - accuracy: 0.8674 - val_loss: 1.0745 - val_accuracy: 0.7139\n",
      "Epoch 50/50\n",
      "1576/1576 [==============================] - 9s 6ms/step - loss: 0.3284 - accuracy: 0.8813 - val_loss: 1.0714 - val_accuracy: 0.7013\n"
     ]
    },
    {
     "data": {
      "text/plain": [
       "<keras.callbacks.callbacks.History at 0x1a56aedeb8>"
      ]
     },
     "execution_count": 46,
     "metadata": {},
     "output_type": "execute_result"
    }
   ],
   "source": [
    "model.fit(sequences_matrix,y_train,batch_size=128,epochs=50,validation_split=0.2)"
   ]
  },
  {
   "cell_type": "code",
   "execution_count": 36,
   "metadata": {},
   "outputs": [],
   "source": [
    "sequences_test = tok.texts_to_sequences(X_test)\n",
    "sequences_matrix_test = sequence.pad_sequences(sequences_test, maxlen=max_len)"
   ]
  },
  {
   "cell_type": "code",
   "execution_count": 38,
   "metadata": {},
   "outputs": [
    {
     "name": "stdout",
     "output_type": "stream",
     "text": [
      "493/493 [==============================] - 2s 3ms/step\n",
      "Test accuracy: 0.7018255591392517\n"
     ]
    }
   ],
   "source": [
    "scores = model.evaluate(sequences_matrix_test, y_test,verbose=1)\n",
    "print('Test accuracy:', scores[1])"
   ]
  },
  {
   "cell_type": "code",
   "execution_count": null,
   "metadata": {},
   "outputs": [],
   "source": []
  }
 ],
 "metadata": {
  "kernelspec": {
   "display_name": "Python 3",
   "language": "python",
   "name": "python3"
  },
  "language_info": {
   "codemirror_mode": {
    "name": "ipython",
    "version": 3
   },
   "file_extension": ".py",
   "mimetype": "text/x-python",
   "name": "python",
   "nbconvert_exporter": "python",
   "pygments_lexer": "ipython3",
   "version": "3.7.3"
  }
 },
 "nbformat": 4,
 "nbformat_minor": 4
}
